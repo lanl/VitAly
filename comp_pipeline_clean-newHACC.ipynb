{
 "cells": [
  {
   "cell_type": "code",
   "execution_count": null,
   "metadata": {},
   "outputs": [],
   "source": [
    "from utils import *\n",
    "import pandas as pd"
   ]
  },
  {
   "cell_type": "code",
   "execution_count": null,
   "metadata": {},
   "outputs": [],
   "source": [
    "orig_file = \"/home/pascalgrosset/data/cosmo/vel_analysis/new_hacc/orig-499.haloproperties\"\n",
    "comp_file = \"/home/pascalgrosset/data/cosmo/vel_analysis/new_hacc/sz_PosNoComp_vel_.01-499.haloproperties\""
   ]
  },
  {
   "cell_type": "code",
   "execution_count": null,
   "metadata": {},
   "outputs": [],
   "source": [
    "gio_file = pygio.PyGenericIO(orig_file)\n",
    "\n",
    "# inspect (prints to python stdout, also works in notebook)\n",
    "gio_file.inspect()"
   ]
  },
  {
   "cell_type": "code",
   "execution_count": null,
   "metadata": {},
   "outputs": [],
   "source": [
    "variables_to_show = [\"fof_halo_count\"\n",
    ",\"fof_halo_tag\"\n",
    ",\"fof_halo_mass\"\n",
    ",\"fof_halo_ke\"\n",
    ",\"fof_halo_center_x\"\n",
    ",\"fof_halo_center_y\"\n",
    ",\"fof_halo_center_z\"\n",
    ",\"fof_halo_angmom_x\"\n",
    ",\"fof_halo_angmom_y\"\n",
    ",\"fof_halo_angmom_z\"\n",
    ",\"fof_halo_max_cir_vel\"\n",
    ",\"fof_halo_com_x\"\n",
    ",\"fof_halo_com_y\"\n",
    ",\"fof_halo_com_z\"\n",
    ",\"fof_halo_com_vx\"\n",
    ",\"fof_halo_com_vy\"\n",
    ",\"fof_halo_com_vz\"\n",
    ",\"fof_halo_1D_vel_disp\"]\n",
    "\n",
    "# Don't exist anymore\n",
    "#,\"fof_halo_mean_vx\"\n",
    "#,\"fof_halo_mean_vy\"\n",
    "#,\"fof_halo_mean_vz\"\n",
    "#,\"fof_halo_vel_disp\""
   ]
  },
  {
   "cell_type": "code",
   "execution_count": null,
   "metadata": {},
   "outputs": [],
   "source": [
    "# Read in the data\n",
    "data_orig_gio = pygio.read_genericio(orig_file, variables_to_show)\n",
    "data_comp_gio = pygio.read_genericio(comp_file, variables_to_show)\n",
    "\n",
    "# Read in the mathched list of halos created from matchHalosPos.py\n",
    "index_file = read_csv_to_array('/home/pascalgrosset/projects/VizAly-Vis_IO/results/new_Hacc_indices_com_sz_PosNoComp_vel_.01-499.csv',',')"
   ]
  },
  {
   "cell_type": "code",
   "execution_count": null,
   "metadata": {},
   "outputs": [],
   "source": [
    "def adrianVecDiffMag(v1, v2):\n",
    "    '''Comparison is with Adrian comparison metric:  ||a2 - a1|| / ||a1||: a1=uncompressed, a2=compressed'''\n",
    "    return ( np.linalg.norm(v2-v1)/ np.linalg.norm(v1) )\n",
    "\n",
    "\n",
    "def computeMaxDiffMag(indexFile, data_orig_gio, data_comp_gio, numItems):\n",
    "    '''Create a list of tuples for ang mom diff'''\n",
    "    data_orig__ang_mom_x = np.array(data_orig_gio[\"fof_halo_angmom_x\"])\n",
    "    data_orig__ang_mom_y = np.array(data_orig_gio[\"fof_halo_angmom_y\"])\n",
    "    data_orig__ang_mom_z = np.array(data_orig_gio[\"fof_halo_angmom_z\"])\n",
    "    \n",
    "    data_comp__ang_mom_x = np.array(data_comp_gio[\"fof_halo_angmom_x\"])\n",
    "    data_comp__ang_mom_y = np.array(data_comp_gio[\"fof_halo_angmom_y\"])\n",
    "    data_comp__ang_mom_z = np.array(data_comp_gio[\"fof_halo_angmom_z\"])\n",
    "    \n",
    "    diffMagList = []\n",
    "\n",
    "    for i in range(numItems):\n",
    "        index_comp = i\n",
    "        index_orig = int(indexFile[index_comp])\n",
    "        \n",
    "        vec_orig = np.array([data_orig__ang_mom_x[index_orig], data_orig__ang_mom_y[index_orig], data_orig__ang_mom_z[index_orig]])\n",
    "        vec_comp = np.array([data_comp__ang_mom_x[index_comp], data_comp__ang_mom_y[index_comp], data_comp__ang_mom_z[index_comp]])\n",
    "    \n",
    "        magDiff = adrianVecDiffMag(vec_orig, vec_comp)\n",
    "#         if i == 0:\n",
    "#             print(vec_orig, vec_comp, magDiff)\n",
    "#             print(index_orig, index_comp)\n",
    "        \n",
    "        diffMagList.append( (i,magDiff) )\n",
    "        \n",
    "    return diffMagList\n",
    "\n",
    "\n",
    "\n",
    "def sortTuple(tup, rev=True): \n",
    "    '''Sort a list of tuples in descending order'''\n",
    "    # reverse = None (Sorts in Ascending order) \n",
    "    # key is set to sort using second element of \n",
    "    # sublist lambda has been used \n",
    "    return(sorted(tup, key = lambda x: x[1], reverse=rev))\n",
    "\n",
    "\n",
    "\n",
    "def getFilteredList(data, sortedList, index_file, num_elem, filter_var_name, filter_var_value, num_to_show, orig=True):\n",
    "    '''Filter the list based on > filter val'''\n",
    "    fullList_orig=[]\n",
    "    count = 0\n",
    "    \n",
    "    for i in range(num_elem):\n",
    "        _index_to_show = sortedList[i][0]\n",
    "        if orig == True:\n",
    "            __index_to_show = int(index_file[_index_to_show])\n",
    "        else:\n",
    "            __index_to_show = _index_to_show\n",
    "        \n",
    "        \n",
    "        if data[filter_var_name][__index_to_show] > filter_var_value:\n",
    "            #print(data_show_orig_gio[filter_var_name][__index_to_show])\n",
    "            \n",
    "            theList = []\n",
    "            theList.append(sortedList[i][1])\n",
    "            for var in variables_to_show:\n",
    "                theList.append(data[var][__index_to_show])\n",
    "\n",
    "            fullList_orig.append(theList)\n",
    "\n",
    "            count = count + 1\n",
    "            if num_to_show != -1:\n",
    "                if count > num_to_show:\n",
    "                    break\n",
    "    \n",
    "    return fullList_orig"
   ]
  },
  {
   "cell_type": "code",
   "execution_count": null,
   "metadata": {},
   "outputs": [],
   "source": [
    "# Find the halos with the largest difference in ang mom diff\n",
    "theList = computeMaxDiffMag(index_file, data_orig_gio, data_comp_gio, len(index_file))\n",
    "\n",
    "# Sort the list in desc order of difference in ang mom diff\n",
    "sortedList = sortTuple(theList)"
   ]
  },
  {
   "cell_type": "code",
   "execution_count": null,
   "metadata": {},
   "outputs": [],
   "source": []
  },
  {
   "cell_type": "code",
   "execution_count": null,
   "metadata": {},
   "outputs": [],
   "source": [
    "num_to_show = 100\n",
    "num_elem = len(index_file)\n",
    "\n",
    "filter_var_name = \"fof_halo_count\"\n",
    "filter_var_value = 0\n",
    "\n",
    "\n",
    "# Use above list to get a list of halos sorted by ang mom diff and filtered by size of halos\n",
    "_fullList_orig = getFilteredList(data_orig_gio, sortedList, index_file, num_elem, filter_var_name, filter_var_value, num_to_show, True)\n",
    "_fullList_comp = getFilteredList(data_comp_gio, sortedList, index_file, num_elem, filter_var_name, filter_var_value, num_to_show, False)\n",
    "\n",
    "\n",
    "# Create data frames for easier manipulation\n",
    "# fof_halo_vel_disappeared\n",
    "#,\"fof_halo_mean_vx\"\n",
    "#,\"fof_halo_mean_vy\"\n",
    "#,\"fof_halo_mean_vz\"\n",
    "#cols=['mag_diff','fof_halo_count', 'fof_halo_tag', 'fof_halo_mass', 'fof_halo_ke', 'fof_halo_center_x', 'fof_halo_center_y', 'fof_halo_center_z', 'fof_halo_angmom_x', 'fof_halo_angmom_y', 'fof_halo_angmom_z', 'fof_halo_max_cir_vel', 'fof_halo_com_x', 'fof_halo_com_y', 'fof_halo_com_z', 'fof_halo_mean_vx', 'fof_halo_mean_vy', 'fof_halo_mean_vz', 'fof_halo_vel_disp', 'fof_halo_1D_vel_disp']\n",
    "cols=['mag_diff','fof_halo_count', 'fof_halo_tag', 'fof_halo_mass', 'fof_halo_ke', 'fof_halo_center_x', 'fof_halo_center_y', 'fof_halo_center_z', 'fof_halo_angmom_x', 'fof_halo_angmom_y', 'fof_halo_angmom_z', 'fof_halo_max_cir_vel', 'fof_halo_com_x', 'fof_halo_com_y', 'fof_halo_com_z', 'fof_halo_com_vx', 'fof_halo_com_vy', 'fof_halo_com_vz', 'fof_halo_1D_vel_disp']\n",
    "\n",
    "\n",
    "_df_orig = pd.DataFrame(_fullList_orig, columns=cols)\n",
    "_df_comp = pd.DataFrame(_fullList_comp, columns=cols)\n",
    "\n",
    "_df_orig.to_csv(\"results/new_hacc_largest_100_ang_mom_diff__orig-499.csv\")\n",
    "_df_comp.to_csv(\"results/new_hacc_largest_100_ang_mom_diff__PosNoComp_vel_.01-499.csv\") "
   ]
  },
  {
   "cell_type": "code",
   "execution_count": null,
   "metadata": {},
   "outputs": [],
   "source": [
    "_df_orig.head()"
   ]
  },
  {
   "cell_type": "code",
   "execution_count": null,
   "metadata": {},
   "outputs": [],
   "source": [
    "_df_comp.head()"
   ]
  },
  {
   "cell_type": "code",
   "execution_count": null,
   "metadata": {},
   "outputs": [],
   "source": []
  },
  {
   "cell_type": "code",
   "execution_count": null,
   "metadata": {},
   "outputs": [],
   "source": [
    "num_to_show = -1\n",
    "num_elem = len(index_file)\n",
    "\n",
    "filter_var_name = \"fof_halo_count\"\n",
    "filter_var_value = 10000\n",
    "\n",
    "\n",
    "# Use above list to get a list of halos sorted by ang mom diff and filtered by size of halos\n",
    "_fullList_orig = getFilteredList(data_orig_gio, sortedList, index_file, num_elem, filter_var_name, filter_var_value, num_to_show, True)\n",
    "_fullList_comp = getFilteredList(data_comp_gio, sortedList, index_file, num_elem, filter_var_name, filter_var_value, num_to_show, False)\n",
    "\n",
    "\n",
    "# Create data frames for easier manipulation\n",
    "# Create data frames for easier manipulation\n",
    "# fof_halo_vel_disappeared\n",
    "#,\"fof_halo_mean_vx\"\n",
    "#,\"fof_halo_mean_vy\"\n",
    "#,\"fof_halo_mean_vz\"\n",
    "#cols=['mag_diff','fof_halo_count', 'fof_halo_tag', 'fof_halo_mass', 'fof_halo_ke', 'fof_halo_center_x', 'fof_halo_center_y', 'fof_halo_center_z', 'fof_halo_angmom_x', 'fof_halo_angmom_y', 'fof_halo_angmom_z', 'fof_halo_max_cir_vel', 'fof_halo_com_x', 'fof_halo_com_y', 'fof_halo_com_z', 'fof_halo_mean_vx', 'fof_halo_mean_vy', 'fof_halo_mean_vz', 'fof_halo_vel_disp', 'fof_halo_1D_vel_disp']\n",
    "cols=['mag_diff','fof_halo_count', 'fof_halo_tag', 'fof_halo_mass', 'fof_halo_ke', 'fof_halo_center_x', 'fof_halo_center_y', 'fof_halo_center_z', 'fof_halo_angmom_x', 'fof_halo_angmom_y', 'fof_halo_angmom_z', 'fof_halo_max_cir_vel', 'fof_halo_com_x', 'fof_halo_com_y', 'fof_halo_com_z', 'fof_halo_com_vx', 'fof_halo_com_vy', 'fof_halo_com_vz', 'fof_halo_1D_vel_disp']\n",
    "\n",
    "_df_orig = pd.DataFrame(_fullList_orig, columns=cols)\n",
    "_df_comp = pd.DataFrame(_fullList_comp, columns=cols)\n",
    "\n",
    "_df_orig.to_csv(\"results/new_hacc_largest_above_10000_ang_mom_diff__orig-499.csv\")\n",
    "_df_comp.to_csv(\"results/new_hacc_largest_above_10000_ang_mom_diff__PosNoComp_vel_.01-499.csv\")"
   ]
  },
  {
   "cell_type": "code",
   "execution_count": null,
   "metadata": {},
   "outputs": [],
   "source": [
    "_df_orig.head()"
   ]
  },
  {
   "cell_type": "code",
   "execution_count": null,
   "metadata": {},
   "outputs": [],
   "source": [
    "_df_comp.head()"
   ]
  },
  {
   "cell_type": "code",
   "execution_count": null,
   "metadata": {},
   "outputs": [],
   "source": []
  }
 ],
 "metadata": {
  "kernelspec": {
   "display_name": "Python 3",
   "language": "python",
   "name": "python3"
  },
  "language_info": {
   "codemirror_mode": {
    "name": "ipython",
    "version": 3
   },
   "file_extension": ".py",
   "mimetype": "text/x-python",
   "name": "python",
   "nbconvert_exporter": "python",
   "pygments_lexer": "ipython3",
   "version": "3.8.3"
  }
 },
 "nbformat": 4,
 "nbformat_minor": 4
}
