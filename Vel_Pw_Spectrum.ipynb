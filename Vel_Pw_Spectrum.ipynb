{
 "cells": [
  {
   "cell_type": "code",
   "execution_count": null,
   "metadata": {},
   "outputs": [],
   "source": [
    "import pandas as pd\n",
    "import plotly.graph_objects as go"
   ]
  },
  {
   "cell_type": "code",
   "execution_count": null,
   "metadata": {},
   "outputs": [],
   "source": [
    "## Timstep 100, vx\n",
    "\n",
    "df_spectrum_100_vx_orig = pd.read_csv(\"vel-test-100/spectrum/orig.pk.rsd.0\", delimiter='\\t') \n",
    "df_spectrum_100_vx_blocs = pd.read_csv(\"vel-test-100/spectrum/BLOSC_.pk.rsd.0\", delimiter='\\t')\n",
    "df_spectrum_100_vx_OnlyPos = pd.read_csv(\"vel-test-100/spectrum/sz_velNoComp.pk.rsd.0\", delimiter='\\t') \n",
    "df_spectrum_100_vx_OnlyVel_001 = pd.read_csv(\"vel-test-100/spectrum/sz_PosNoComp_vel_.001.pk.rsd.0\", delimiter='\\t') \n",
    "df_spectrum_100_vx_BothVel_001 = pd.read_csv(\"vel-test-100/spectrum/sz_vel_.001.pk.rsd.0\", delimiter='\\t') \n",
    "\n",
    "# 398 becasue below 10 only\n",
    "ts100_p2_vx_orig = df_spectrum_100_vx_orig['[<P_2(k)> (Mpc/h)^3]'].to_list()[:398]\n",
    "ts100_p2_vx_blosc = df_spectrum_100_vx_blocs['[<P_2(k)> (Mpc/h)^3]'].to_list()[:398]\n",
    "ts100_p2_vx_OnlyPos = df_spectrum_100_vx_OnlyPos['[<P_2(k)> (Mpc/h)^3]'].to_list()[:398]\n",
    "ts100_p2_vx_OnlyVel_001 = df_spectrum_100_vx_OnlyVel_001['[<P_2(k)> (Mpc/h)^3]'].to_list()[:398]\n",
    "ts100_p2_vx_BothVel_001 = df_spectrum_100_vx_BothVel_001['[<P_2(k)> (Mpc/h)^3]'].to_list()[:398]\n",
    "\n",
    "x_axis_vx_100 = df_spectrum_100_vx_orig['# [<k> (h/Mpc)]'].to_list()[:398]\n",
    "\n",
    "ts100_p2_vx_ratioBlosc = [b / o for b,o in zip(ts100_p2_vx_blosc, ts100_p2_vx_orig)]\n",
    "ts100_p2_vx_ratioOnlyPos = [b / o for b,o in zip(ts100_p2_vx_OnlyPos, ts100_p2_vx_orig)]\n",
    "ts100_p2_vx_ratioOnlyVel_001 = [b / o for b,o in zip(ts100_p2_vx_OnlyVel_001, ts100_p2_vx_orig)]\n",
    "ts100_p2_vx_ratioBothVel_001 = [b / o for b,o in zip(ts100_p2_vx_BothVel_001, ts100_p2_vx_orig)]"
   ]
  },
  {
   "cell_type": "code",
   "execution_count": null,
   "metadata": {},
   "outputs": [],
   "source": [
    "fig = go.Figure()\n",
    "\n",
    "fig.add_trace(go.Scatter(x=x_axis_vx_100, y=ts100_p2_vx_ratioBlosc, mode='lines', name=\"Blosc Ratio\"))\n",
    "fig.add_trace(go.Scatter(x=x_axis_vx_100, y=ts100_p2_vx_ratioOnlyPos, mode='lines', name=\"Only Pos Compressed (0.003 abs)\"))\n",
    "fig.add_trace(go.Scatter(x=x_axis_vx_100, y=ts100_p2_vx_ratioOnlyVel_001, mode='lines', name=\"Only Vel Compressed (0.001 pw_rel)\"))\n",
    "fig.add_trace(go.Scatter(x=x_axis_vx_100, y=ts100_p2_vx_ratioBothVel_001, mode='lines', name=\"Both Pos and Velcompressed\"))\n",
    "\n",
    "\n",
    "fig.update_xaxes(type=\"log\")\n",
    "fig.update_layout(title={'text': \"ts 100; for vx\"})\n",
    "fig.show()"
   ]
  },
  {
   "cell_type": "code",
   "execution_count": null,
   "metadata": {},
   "outputs": [],
   "source": []
  },
  {
   "cell_type": "code",
   "execution_count": null,
   "metadata": {},
   "outputs": [],
   "source": [
    "## Timstep 100, vy\n",
    "\n",
    "df_spectrum_100_vy_orig = pd.read_csv(\"vel-test-100/spectrum/orig.pk.rsd.1\", delimiter='\\t') \n",
    "df_spectrum_100_vy_blocs = pd.read_csv(\"vel-test-100/spectrum/BLOSC_.pk.rsd.1\", delimiter='\\t')\n",
    "df_spectrum_100_vy_OnlyPos = pd.read_csv(\"vel-test-100/spectrum/sz_velNoComp.pk.rsd.1\", delimiter='\\t') \n",
    "df_spectrum_100_vy_OnlyVel_001 = pd.read_csv(\"vel-test-100/spectrum/sz_PosNoComp_vel_.001.pk.rsd.1\", delimiter='\\t') \n",
    "df_spectrum_100_vy_BothVel_001 = pd.read_csv(\"vel-test-100/spectrum/sz_vel_.001.pk.rsd.1\", delimiter='\\t') \n",
    "\n",
    "# 398 becasue below 10 only\n",
    "ts100_p2_vy_orig = df_spectrum_100_vy_orig['[<P_2(k)> (Mpc/h)^3]'].to_list()[:398]\n",
    "ts100_p2_vy_blosc = df_spectrum_100_vy_blocs['[<P_2(k)> (Mpc/h)^3]'].to_list()[:398]\n",
    "ts100_p2_vy_OnlyPos = df_spectrum_100_vy_OnlyPos['[<P_2(k)> (Mpc/h)^3]'].to_list()[:398]\n",
    "ts100_p2_vy_OnlyVel_001 = df_spectrum_100_vy_OnlyVel_001['[<P_2(k)> (Mpc/h)^3]'].to_list()[:398]\n",
    "ts100_p2_vy_BothVel_001 = df_spectrum_100_vy_BothVel_001['[<P_2(k)> (Mpc/h)^3]'].to_list()[:398]\n",
    "\n",
    "x_axis_vy_100 = df_spectrum_100_vy_orig['# [<k> (h/Mpc)]'].to_list()[:398]\n",
    "\n",
    "ts100_p2_vy_ratioBlosc = [b / o for b,o in zip(ts100_p2_vy_blosc, ts100_p2_vy_orig)]\n",
    "ts100_p2_vy_ratioOnlyPos = [b / o for b,o in zip(ts100_p2_vy_OnlyPos, ts100_p2_vy_orig)]\n",
    "ts100_p2_vy_ratioOnlyVel_001 = [b / o for b,o in zip(ts100_p2_vy_OnlyVel_001, ts100_p2_vy_orig)]\n",
    "ts100_p2_vy_ratioBothVel_001 = [b / o for b,o in zip(ts100_p2_vy_BothVel_001, ts100_p2_vy_orig)]"
   ]
  },
  {
   "cell_type": "code",
   "execution_count": null,
   "metadata": {},
   "outputs": [],
   "source": [
    "fig = go.Figure()\n",
    "\n",
    "fig.add_trace(go.Scatter(x=x_axis_vy_100, y=ts100_p2_vy_ratioBlosc, mode='lines', name=\"Blosc Ratio\"))\n",
    "fig.add_trace(go.Scatter(x=x_axis_vy_100, y=ts100_p2_vy_ratioOnlyPos, mode='lines', name=\"Only Pos Compressed (0.003 abs)\"))\n",
    "fig.add_trace(go.Scatter(x=x_axis_vy_100, y=ts100_p2_vy_ratioOnlyVel_001, mode='lines', name=\"Only Vel Compressed (0.001 pw_rel)\"))\n",
    "fig.add_trace(go.Scatter(x=x_axis_vy_100, y=ts100_p2_vy_ratioBothVel_001, mode='lines', name=\"Both Pos and Velcompressed\"))\n",
    "\n",
    "\n",
    "fig.update_xaxes(type=\"log\")\n",
    "fig.show()"
   ]
  },
  {
   "cell_type": "code",
   "execution_count": null,
   "metadata": {},
   "outputs": [],
   "source": []
  },
  {
   "cell_type": "code",
   "execution_count": null,
   "metadata": {},
   "outputs": [],
   "source": [
    "## Timstep 100, vz\n",
    "\n",
    "df_spectrum_100_vz_orig = pd.read_csv(\"vel-test-100/spectrum/orig.pk.rsd.2\", delimiter='\\t') \n",
    "df_spectrum_100_vz_blocs = pd.read_csv(\"vel-test-100/spectrum/BLOSC_.pk.rsd.2\", delimiter='\\t')\n",
    "df_spectrum_100_vz_OnlyPos = pd.read_csv(\"vel-test-100/spectrum/sz_velNoComp.pk.rsd.2\", delimiter='\\t') \n",
    "df_spectrum_100_vz_OnlyVel_001 = pd.read_csv(\"vel-test-100/spectrum/sz_PosNoComp_vel_.001.pk.rsd.2\", delimiter='\\t') \n",
    "df_spectrum_100_vz_BothVel_001 = pd.read_csv(\"vel-test-100/spectrum/sz_vel_.001.pk.rsd.2\", delimiter='\\t') \n",
    "\n",
    "# 398 becasue below 10 only\n",
    "ts100_p2_vz_orig = df_spectrum_100_vz_orig['[<P_2(k)> (Mpc/h)^3]'].to_list()[:398]\n",
    "ts100_p2_vz_blosc = df_spectrum_100_vz_blocs['[<P_2(k)> (Mpc/h)^3]'].to_list()[:398]\n",
    "ts100_p2_vz_OnlyPos = df_spectrum_100_vz_OnlyPos['[<P_2(k)> (Mpc/h)^3]'].to_list()[:398]\n",
    "ts100_p2_vz_OnlyVel_001 = df_spectrum_100_vz_OnlyVel_001['[<P_2(k)> (Mpc/h)^3]'].to_list()[:398]\n",
    "ts100_p2_vz_BothVel_001 = df_spectrum_100_vz_BothVel_001['[<P_2(k)> (Mpc/h)^3]'].to_list()[:398]\n",
    "\n",
    "x_axis_vz_100 = df_spectrum_100_vz_orig['# [<k> (h/Mpc)]'].to_list()[:398]\n",
    "\n",
    "ts100_p2_vz_ratioBlosc = [b / o for b,o in zip(ts100_p2_vz_blosc, ts100_p2_vz_orig)]\n",
    "ts100_p2_vz_ratioOnlyPos = [b / o for b,o in zip(ts100_p2_vz_OnlyPos, ts100_p2_vz_orig)]\n",
    "ts100_p2_vz_ratioOnlyVel_001 = [b / o for b,o in zip(ts100_p2_vz_OnlyVel_001, ts100_p2_vz_orig)]\n",
    "ts100_p2_vz_ratioBothVel_001 = [b / o for b,o in zip(ts100_p2_vz_BothVel_001, ts100_p2_vz_orig)]"
   ]
  },
  {
   "cell_type": "code",
   "execution_count": null,
   "metadata": {},
   "outputs": [],
   "source": [
    "fig = go.Figure()\n",
    "\n",
    "fig.add_trace(go.Scatter(x=x_axis_vz_100, y=ts100_p2_vz_ratioBlosc, mode='lines', name=\"Blosc Ratio\"))\n",
    "fig.add_trace(go.Scatter(x=x_axis_vz_100, y=ts100_p2_vz_ratioOnlyPos, mode='lines', name=\"Only Pos Compressed (0.003 abs)\"))\n",
    "fig.add_trace(go.Scatter(x=x_axis_vz_100, y=ts100_p2_vz_ratioOnlyVel_001, mode='lines', name=\"Only Vel Compressed (0.001 pw_rel)\"))\n",
    "fig.add_trace(go.Scatter(x=x_axis_vy_100, y=ts100_p2_vz_ratioBothVel_001, mode='lines', name=\"Both Pos and Velcompressed\"))\n",
    "\n",
    "\n",
    "fig.update_xaxes(type=\"log\")\n",
    "fig.show()"
   ]
  },
  {
   "cell_type": "code",
   "execution_count": null,
   "metadata": {},
   "outputs": [],
   "source": []
  },
  {
   "cell_type": "code",
   "execution_count": null,
   "metadata": {},
   "outputs": [],
   "source": []
  },
  {
   "cell_type": "code",
   "execution_count": null,
   "metadata": {},
   "outputs": [],
   "source": [
    "## Timstep 300, vx\n",
    "\n",
    "df_spectrum_300_vx_orig = pd.read_csv(\"vel-test-300/spectrum/orig.pk.rsd.0\", delimiter='\\t') \n",
    "df_spectrum_300_vx_blocs = pd.read_csv(\"vel-test-300/spectrum/BLOSC_.pk.rsd.0\", delimiter='\\t')\n",
    "df_spectrum_300_vx_OnlyPos = pd.read_csv(\"vel-test-300/spectrum/sz_velNoComp.pk.rsd.0\", delimiter='\\t') \n",
    "df_spectrum_300_vx_OnlyVel_001 = pd.read_csv(\"vel-test-300/spectrum/sz_PosNoComp_vel_.001.pk.rsd.0\", delimiter='\\t') \n",
    "df_spectrum_300_vx_BothVel_001 = pd.read_csv(\"vel-test-300/spectrum/sz_vel_.001.pk.rsd.0\", delimiter='\\t') \n",
    "\n",
    "# 398 because below 10 only\n",
    "ts300_p2_vx_orig = df_spectrum_300_vx_orig['[<P_2(k)> (Mpc/h)^3]'].to_list()[:398]\n",
    "ts300_p2_vx_blosc = df_spectrum_300_vx_blocs['[<P_2(k)> (Mpc/h)^3]'].to_list()[:398]\n",
    "ts300_p2_vx_OnlyPos = df_spectrum_300_vx_OnlyPos['[<P_2(k)> (Mpc/h)^3]'].to_list()[:398]\n",
    "ts300_p2_vx_OnlyVel_001 = df_spectrum_300_vx_OnlyVel_001['[<P_2(k)> (Mpc/h)^3]'].to_list()[:398]\n",
    "ts300_p2_vx_BothVel_001 = df_spectrum_300_vx_BothVel_001['[<P_2(k)> (Mpc/h)^3]'].to_list()[:398]\n",
    "\n",
    "x_axis_vx_300 = df_spectrum_300_vx_orig['# [<k> (h/Mpc)]'].to_list()[:398]\n",
    "\n",
    "ts300_p2_vx_ratioBlosc = [b / o for b,o in zip(ts300_p2_vx_blosc, ts300_p2_vx_orig)]\n",
    "ts300_p2_vx_ratioOnlyPos = [b / o for b,o in zip(ts300_p2_vx_OnlyPos, ts300_p2_vx_orig)]\n",
    "ts300_p2_vx_ratioOnlyVel_001 = [b / o for b,o in zip(ts300_p2_vx_OnlyVel_001, ts300_p2_vx_orig)]\n",
    "ts300_p2_vx_ratioBothVel_001 = [b / o for b,o in zip(ts300_p2_vx_BothVel_001, ts300_p2_vx_orig)]"
   ]
  },
  {
   "cell_type": "code",
   "execution_count": null,
   "metadata": {},
   "outputs": [],
   "source": [
    "fig = go.Figure()\n",
    "\n",
    "fig.add_trace(go.Scatter(x=x_axis_vx_300, y=ts300_p2_vx_ratioBlosc, mode='lines', name=\"Blosc Ratio\"))\n",
    "fig.add_trace(go.Scatter(x=x_axis_vx_300, y=ts300_p2_vx_ratioOnlyPos, mode='lines', name=\"Only Pos Compressed (0.003 abs)\"))\n",
    "fig.add_trace(go.Scatter(x=x_axis_vx_300, y=ts300_p2_vx_ratioOnlyVel_001, mode='lines', name=\"Only Vel Compressed (0.001 pw_rel)\"))\n",
    "fig.add_trace(go.Scatter(x=x_axis_vx_300, y=ts300_p2_vx_ratioBothVel_001, mode='lines', name=\"Both Pos and Velcompressed\"))\n",
    "\n",
    "\n",
    "fig.update_xaxes(type=\"log\")\n",
    "fig.show()"
   ]
  },
  {
   "cell_type": "code",
   "execution_count": null,
   "metadata": {},
   "outputs": [],
   "source": []
  },
  {
   "cell_type": "code",
   "execution_count": null,
   "metadata": {},
   "outputs": [],
   "source": [
    "## Timstep 300, vy\n",
    "\n",
    "df_spectrum_300_vy_orig = pd.read_csv(\"vel-test-300/spectrum/orig.pk.rsd.1\", delimiter='\\t') \n",
    "df_spectrum_300_vy_blocs = pd.read_csv(\"vel-test-300/spectrum/BLOSC_.pk.rsd.1\", delimiter='\\t')\n",
    "df_spectrum_300_vy_OnlyPos = pd.read_csv(\"vel-test-300/spectrum/sz_velNoComp.pk.rsd.1\", delimiter='\\t') \n",
    "df_spectrum_300_vy_OnlyVel_001 = pd.read_csv(\"vel-test-300/spectrum/sz_PosNoComp_vel_.001.pk.rsd.1\", delimiter='\\t') \n",
    "df_spectrum_300_vy_BothVel_001 = pd.read_csv(\"vel-test-300/spectrum/sz_vel_.001.pk.rsd.1\", delimiter='\\t') \n",
    "\n",
    "# 398 becasue below 10 only\n",
    "ts300_p2_vy_orig = df_spectrum_300_vy_orig['[<P_2(k)> (Mpc/h)^3]'].to_list()[:398]\n",
    "ts300_p2_vy_blosc = df_spectrum_300_vy_blocs['[<P_2(k)> (Mpc/h)^3]'].to_list()[:398]\n",
    "ts300_p2_vy_OnlyPos = df_spectrum_300_vy_OnlyPos['[<P_2(k)> (Mpc/h)^3]'].to_list()[:398]\n",
    "ts300_p2_vy_OnlyVel_001 = df_spectrum_300_vy_OnlyVel_001['[<P_2(k)> (Mpc/h)^3]'].to_list()[:398]\n",
    "ts300_p2_vy_BothVel_001 = df_spectrum_300_vy_BothVel_001['[<P_2(k)> (Mpc/h)^3]'].to_list()[:398]\n",
    "\n",
    "x_axis_vy_300 = df_spectrum_300_vy_orig['# [<k> (h/Mpc)]'].to_list()[:398]\n",
    "\n",
    "ts300_p2_vy_ratioBlosc = [b / o for b,o in zip(ts300_p2_vy_blosc, ts300_p2_vy_orig)]\n",
    "ts300_p2_vy_ratioOnlyPos = [b / o for b,o in zip(ts300_p2_vy_OnlyPos, ts300_p2_vy_orig)]\n",
    "ts300_p2_vy_ratioOnlyVel_001 = [b / o for b,o in zip(ts300_p2_vy_OnlyVel_001, ts300_p2_vy_orig)]\n",
    "ts300_p2_vy_ratioBothVel_001 = [b / o for b,o in zip(ts300_p2_vy_BothVel_001, ts300_p2_vy_orig)]"
   ]
  },
  {
   "cell_type": "code",
   "execution_count": null,
   "metadata": {},
   "outputs": [],
   "source": [
    "fig = go.Figure()\n",
    "\n",
    "fig.add_trace(go.Scatter(x=x_axis_vy_300, y=ts300_p2_vy_ratioBlosc, mode='lines', name=\"Blosc Ratio\"))\n",
    "fig.add_trace(go.Scatter(x=x_axis_vy_300, y=ts300_p2_vy_ratioOnlyPos, mode='lines', name=\"Only Pos Compressed (0.003 abs)\"))\n",
    "fig.add_trace(go.Scatter(x=x_axis_vy_300, y=ts300_p2_vy_ratioOnlyVel_001, mode='lines', name=\"Only Vel Compressed (0.001 pw_rel)\"))\n",
    "fig.add_trace(go.Scatter(x=x_axis_vy_300, y=ts300_p2_vy_ratioBothVel_001, mode='lines', name=\"Both Pos and Velcompressed\"))\n",
    "\n",
    "\n",
    "fig.update_xaxes(type=\"log\")\n",
    "fig.show()"
   ]
  },
  {
   "cell_type": "code",
   "execution_count": null,
   "metadata": {},
   "outputs": [],
   "source": []
  },
  {
   "cell_type": "code",
   "execution_count": null,
   "metadata": {},
   "outputs": [],
   "source": [
    "## Timstep 300, vz\n",
    "\n",
    "df_spectrum_300_vz_orig = pd.read_csv(\"vel-test-300/spectrum/orig.pk.rsd.2\", delimiter='\\t') \n",
    "df_spectrum_300_vz_blocs = pd.read_csv(\"vel-test-300/spectrum/BLOSC_.pk.rsd.2\", delimiter='\\t')\n",
    "df_spectrum_300_vz_OnlyPos = pd.read_csv(\"vel-test-300/spectrum/sz_velNoComp.pk.rsd.2\", delimiter='\\t') \n",
    "df_spectrum_300_vz_OnlyVel_001 = pd.read_csv(\"vel-test-300/spectrum/sz_PosNoComp_vel_.001.pk.rsd.2\", delimiter='\\t') \n",
    "df_spectrum_300_vz_BothVel_001 = pd.read_csv(\"vel-test-300/spectrum/sz_vel_.001.pk.rsd.2\", delimiter='\\t') \n",
    "\n",
    "# 398 becasue below 10 only\n",
    "ts300_p2_vz_orig = df_spectrum_300_vz_orig['[<P_2(k)> (Mpc/h)^3]'].to_list()[:398]\n",
    "ts300_p2_vz_blosc = df_spectrum_300_vz_blocs['[<P_2(k)> (Mpc/h)^3]'].to_list()[:398]\n",
    "ts300_p2_vz_OnlyPos = df_spectrum_300_vz_OnlyPos['[<P_2(k)> (Mpc/h)^3]'].to_list()[:398]\n",
    "ts300_p2_vz_OnlyVel_001 = df_spectrum_300_vz_OnlyVel_001['[<P_2(k)> (Mpc/h)^3]'].to_list()[:398]\n",
    "ts300_p2_vz_BothVel_001 = df_spectrum_300_vz_BothVel_001['[<P_2(k)> (Mpc/h)^3]'].to_list()[:398]\n",
    "\n",
    "x_axis_vz_300 = df_spectrum_300_vz_orig['# [<k> (h/Mpc)]'].to_list()[:398]\n",
    "\n",
    "ts300_p2_vz_ratioBlosc = [b / o for b,o in zip(ts300_p2_vz_blosc, ts300_p2_vz_orig)]\n",
    "ts300_p2_vz_ratioOnlyPos = [b / o for b,o in zip(ts300_p2_vz_OnlyPos, ts300_p2_vz_orig)]\n",
    "ts300_p2_vz_ratioOnlyVel_001 = [b / o for b,o in zip(ts300_p2_vz_OnlyVel_001, ts300_p2_vz_orig)]\n",
    "ts300_p2_vz_ratioBothVel_001 = [b / o for b,o in zip(ts300_p2_vz_BothVel_001, ts300_p2_vz_orig)]"
   ]
  },
  {
   "cell_type": "code",
   "execution_count": null,
   "metadata": {},
   "outputs": [],
   "source": [
    "fig = go.Figure()\n",
    "\n",
    "fig.add_trace(go.Scatter(x=x_axis_vz_300, y=ts300_p2_vz_ratioBlosc, mode='lines', name=\"Blosc Ratio\"))\n",
    "fig.add_trace(go.Scatter(x=x_axis_vz_300, y=ts300_p2_vz_ratioOnlyPos, mode='lines', name=\"Only Pos Compressed (0.003 abs)\"))\n",
    "fig.add_trace(go.Scatter(x=x_axis_vz_300, y=ts300_p2_vz_ratioOnlyVel_001, mode='lines', name=\"Only Vel Compressed (0.001 pw_rel)\"))\n",
    "fig.add_trace(go.Scatter(x=x_axis_vz_300, y=ts300_p2_vz_ratioBothVel_001, mode='lines', name=\"Both Pos and Velcompressed\"))\n",
    "\n",
    "\n",
    "fig.update_xaxes(type=\"log\")\n",
    "fig.show()"
   ]
  },
  {
   "cell_type": "code",
   "execution_count": null,
   "metadata": {},
   "outputs": [],
   "source": []
  },
  {
   "cell_type": "code",
   "execution_count": null,
   "metadata": {},
   "outputs": [],
   "source": []
  },
  {
   "cell_type": "code",
   "execution_count": null,
   "metadata": {},
   "outputs": [],
   "source": [
    "## Timstep 499, vx\n",
    "\n",
    "df_spectrum_500_vx_orig = pd.read_csv(\"vel-test-499/spectrum/orig.pk.rsd.0\", delimiter='\\t') \n",
    "df_spectrum_500_vx_blocs = pd.read_csv(\"vel-test-499/spectrum/BLOSC_.pk.rsd.0\", delimiter='\\t')\n",
    "df_spectrum_500_vx_OnlyPos = pd.read_csv(\"vel-test-499/spectrum/sz_velNoComp.pk.rsd.0\", delimiter='\\t') \n",
    "df_spectrum_500_vx_OnlyVel_001 = pd.read_csv(\"vel-test-499/spectrum/sz_PosNoComp_vel_.001.pk.rsd.0\", delimiter='\\t') \n",
    "df_spectrum_500_vx_BothVel_001 = pd.read_csv(\"vel-test-499/spectrum/sz_vel_.001.pk.rsd.0\", delimiter='\\t') \n",
    "\n",
    "# 398 because below 10 only\n",
    "ts500_p2_vx_orig = df_spectrum_500_vx_orig['[<P_2(k)> (Mpc/h)^3]'].to_list()[:398]\n",
    "ts500_p2_vx_blosc = df_spectrum_500_vx_blocs['[<P_2(k)> (Mpc/h)^3]'].to_list()[:398]\n",
    "ts500_p2_vx_OnlyPos = df_spectrum_500_vx_OnlyPos['[<P_2(k)> (Mpc/h)^3]'].to_list()[:398]\n",
    "ts500_p2_vx_OnlyVel_001 = df_spectrum_500_vx_OnlyVel_001['[<P_2(k)> (Mpc/h)^3]'].to_list()[:398]\n",
    "ts500_p2_vx_BothVel_001 = df_spectrum_500_vx_BothVel_001['[<P_2(k)> (Mpc/h)^3]'].to_list()[:398]\n",
    "\n",
    "x_axis_vx_500 = df_spectrum_500_vx_orig['# [<k> (h/Mpc)]'].to_list()[:398]\n",
    "\n",
    "ts500_p2_vx_ratioBlosc = [b / o for b,o in zip(ts500_p2_vx_blosc, ts500_p2_vx_orig)]\n",
    "ts500_p2_vx_ratioOnlyPos = [b / o for b,o in zip(ts500_p2_vx_OnlyPos, ts500_p2_vx_orig)]\n",
    "ts500_p2_vx_ratioOnlyVel_001 = [b / o for b,o in zip(ts500_p2_vx_OnlyVel_001, ts500_p2_vx_orig)]\n",
    "ts500_p2_vx_ratioBothVel_001 = [b / o for b,o in zip(ts500_p2_vx_BothVel_001, ts500_p2_vx_orig)]"
   ]
  },
  {
   "cell_type": "code",
   "execution_count": null,
   "metadata": {},
   "outputs": [],
   "source": [
    "fig = go.Figure()\n",
    "\n",
    "fig.add_trace(go.Scatter(x=x_axis_vx_500, y=ts500_p2_vx_ratioBlosc, mode='lines', name=\"Blosc Ratio\"))\n",
    "fig.add_trace(go.Scatter(x=x_axis_vx_500, y=ts500_p2_vx_ratioOnlyPos, mode='lines', name=\"Only Pos Compressed (0.003 abs)\"))\n",
    "fig.add_trace(go.Scatter(x=x_axis_vx_500, y=ts500_p2_vx_ratioOnlyVel_001, mode='lines', name=\"Only Vel Compressed (0.001 pw_rel)\"))\n",
    "fig.add_trace(go.Scatter(x=x_axis_vx_500, y=ts500_p2_vx_ratioBothVel_001, mode='lines', name=\"Both Pos and Velcompressed\"))\n",
    "\n",
    "\n",
    "fig.update_xaxes(type=\"log\")\n",
    "fig.show()"
   ]
  },
  {
   "cell_type": "code",
   "execution_count": null,
   "metadata": {},
   "outputs": [],
   "source": []
  },
  {
   "cell_type": "code",
   "execution_count": null,
   "metadata": {},
   "outputs": [],
   "source": [
    "## Timstep 500, vy\n",
    "\n",
    "df_spectrum_500_vy_orig = pd.read_csv(\"vel-test-499/spectrum/orig.pk.rsd.1\", delimiter='\\t') \n",
    "df_spectrum_500_vy_blocs = pd.read_csv(\"vel-test-499/spectrum/BLOSC_.pk.rsd.1\", delimiter='\\t')\n",
    "df_spectrum_500_vy_OnlyPos = pd.read_csv(\"vel-test-499/spectrum/sz_velNoComp.pk.rsd.1\", delimiter='\\t') \n",
    "df_spectrum_500_vy_OnlyVel_001 = pd.read_csv(\"vel-test-499/spectrum/sz_PosNoComp_vel_.001.pk.rsd.1\", delimiter='\\t') \n",
    "df_spectrum_500_vy_BothVel_001 = pd.read_csv(\"vel-test-499/spectrum/sz_vel_.001.pk.rsd.1\", delimiter='\\t') \n",
    "\n",
    "# 398 becasue below 10 only\n",
    "ts500_p2_vy_orig = df_spectrum_500_vy_orig['[<P_2(k)> (Mpc/h)^3]'].to_list()[:398]\n",
    "ts500_p2_vy_blosc = df_spectrum_500_vy_blocs['[<P_2(k)> (Mpc/h)^3]'].to_list()[:398]\n",
    "ts500_p2_vy_OnlyPos = df_spectrum_500_vy_OnlyPos['[<P_2(k)> (Mpc/h)^3]'].to_list()[:398]\n",
    "ts500_p2_vy_OnlyVel_001 = df_spectrum_500_vy_OnlyVel_001['[<P_2(k)> (Mpc/h)^3]'].to_list()[:398]\n",
    "ts500_p2_vy_BothVel_001 = df_spectrum_500_vy_BothVel_001['[<P_2(k)> (Mpc/h)^3]'].to_list()[:398]\n",
    "\n",
    "x_axis_vy_500 = df_spectrum_500_vy_orig['# [<k> (h/Mpc)]'].to_list()[:398]\n",
    "\n",
    "ts500_p2_vy_ratioBlosc = [b / o for b,o in zip(ts500_p2_vy_blosc, ts500_p2_vy_orig)]\n",
    "ts500_p2_vy_ratioOnlyPos = [b / o for b,o in zip(ts500_p2_vy_OnlyPos, ts500_p2_vy_orig)]\n",
    "ts500_p2_vy_ratioOnlyVel_001 = [b / o for b,o in zip(ts500_p2_vy_OnlyVel_001, ts500_p2_vy_orig)]\n",
    "ts500_p2_vy_ratioBothVel_001 = [b / o for b,o in zip(ts500_p2_vy_BothVel_001, ts500_p2_vy_orig)]"
   ]
  },
  {
   "cell_type": "code",
   "execution_count": null,
   "metadata": {},
   "outputs": [],
   "source": [
    "fig = go.Figure()\n",
    "\n",
    "fig.add_trace(go.Scatter(x=x_axis_vy_500, y=ts500_p2_vy_ratioBlosc, mode='lines', name=\"Blosc Ratio\"))\n",
    "fig.add_trace(go.Scatter(x=x_axis_vy_500, y=ts500_p2_vy_ratioOnlyPos, mode='lines', name=\"Only Pos Compressed (0.003 abs)\"))\n",
    "fig.add_trace(go.Scatter(x=x_axis_vy_500, y=ts500_p2_vy_ratioOnlyVel_001, mode='lines', name=\"Only Vel Compressed (0.001 pw_rel)\"))\n",
    "fig.add_trace(go.Scatter(x=x_axis_vy_500, y=ts500_p2_vy_ratioBothVel_001, mode='lines', name=\"Both Pos and Velcompressed\"))\n",
    "\n",
    "\n",
    "fig.update_xaxes(type=\"log\")\n",
    "fig.show()"
   ]
  },
  {
   "cell_type": "code",
   "execution_count": null,
   "metadata": {},
   "outputs": [],
   "source": []
  },
  {
   "cell_type": "code",
   "execution_count": null,
   "metadata": {},
   "outputs": [],
   "source": [
    "## Timstep 500, vz\n",
    "\n",
    "df_spectrum_500_vz_orig = pd.read_csv(\"vel-test-499/spectrum/orig.pk.rsd.2\", delimiter='\\t') \n",
    "df_spectrum_500_vz_blocs = pd.read_csv(\"vel-test-499/spectrum/BLOSC_.pk.rsd.2\", delimiter='\\t')\n",
    "df_spectrum_500_vz_OnlyPos = pd.read_csv(\"vel-test-499/spectrum/sz_velNoComp.pk.rsd.2\", delimiter='\\t') \n",
    "df_spectrum_500_vz_OnlyVel_001 = pd.read_csv(\"vel-test-499/spectrum/sz_PosNoComp_vel_.001.pk.rsd.2\", delimiter='\\t') \n",
    "df_spectrum_500_vz_BothVel_001 = pd.read_csv(\"vel-test-499/spectrum/sz_vel_.001.pk.rsd.2\", delimiter='\\t') \n",
    "\n",
    "# 398 becasue below 10 only\n",
    "ts500_p2_vz_orig = df_spectrum_500_vz_orig['[<P_2(k)> (Mpc/h)^3]'].to_list()[:398]\n",
    "ts500_p2_vz_blosc = df_spectrum_500_vz_blocs['[<P_2(k)> (Mpc/h)^3]'].to_list()[:398]\n",
    "ts500_p2_vz_OnlyPos = df_spectrum_500_vz_OnlyPos['[<P_2(k)> (Mpc/h)^3]'].to_list()[:398]\n",
    "ts500_p2_vz_OnlyVel_001 = df_spectrum_500_vz_OnlyVel_001['[<P_2(k)> (Mpc/h)^3]'].to_list()[:398]\n",
    "ts500_p2_vz_BothVel_001 = df_spectrum_500_vz_BothVel_001['[<P_2(k)> (Mpc/h)^3]'].to_list()[:398]\n",
    "\n",
    "x_axis_vz_500 = df_spectrum_500_vz_orig['# [<k> (h/Mpc)]'].to_list()[:398]\n",
    "\n",
    "ts500_p2_vz_ratioBlosc = [b / o for b,o in zip(ts500_p2_vz_blosc, ts500_p2_vz_orig)]\n",
    "ts500_p2_vz_ratioOnlyPos = [b / o for b,o in zip(ts500_p2_vz_OnlyPos, ts500_p2_vz_orig)]\n",
    "ts500_p2_vz_ratioOnlyVel_001 = [b / o for b,o in zip(ts500_p2_vz_OnlyVel_001, ts500_p2_vz_orig)]\n",
    "ts500_p2_vz_ratioBothVel_001 = [b / o for b,o in zip(ts500_p2_vz_BothVel_001, ts500_p2_vz_orig)]"
   ]
  },
  {
   "cell_type": "code",
   "execution_count": null,
   "metadata": {},
   "outputs": [],
   "source": [
    "fig = go.Figure()\n",
    "\n",
    "fig.add_trace(go.Scatter(x=x_axis_vz_500, y=ts500_p2_vz_ratioBlosc, mode='lines', name=\"Blosc Ratio\"))\n",
    "fig.add_trace(go.Scatter(x=x_axis_vz_500, y=ts500_p2_vz_ratioOnlyPos, mode='lines', name=\"Only Pos Compressed (0.003 abs)\"))\n",
    "fig.add_trace(go.Scatter(x=x_axis_vz_500, y=ts500_p2_vz_ratioOnlyVel_001, mode='lines', name=\"Only Vel Compressed (0.001 pw_rel)\"))\n",
    "fig.add_trace(go.Scatter(x=x_axis_vz_500, y=ts500_p2_vz_ratioBothVel_001, mode='lines', name=\"Both Pos and Velcompressed\"))\n",
    "\n",
    "\n",
    "fig.update_xaxes(type=\"log\")\n",
    "fig.show()"
   ]
  },
  {
   "cell_type": "code",
   "execution_count": null,
   "metadata": {},
   "outputs": [],
   "source": []
  },
  {
   "cell_type": "code",
   "execution_count": null,
   "metadata": {},
   "outputs": [],
   "source": []
  },
  {
   "cell_type": "code",
   "execution_count": null,
   "metadata": {},
   "outputs": [],
   "source": [
    "# vx compared for vx for timesteps 100,300,500\n",
    "fig = go.Figure()\n",
    "\n",
    "fig.add_trace(go.Scatter(x=x_axis_vx_500, y=ts500_p2_vx_ratioOnlyPos, mode='lines', name=\"Only Pos Compressed (0.003 abs) - 500\"))\n",
    "fig.add_trace(go.Scatter(x=x_axis_vx_300, y=ts300_p2_vx_ratioOnlyPos, mode='lines', name=\"Only Pos Compressed (0.003 abs) - 300\"))\n",
    "fig.add_trace(go.Scatter(x=x_axis_vx_100, y=ts300_p2_vx_ratioOnlyPos, mode='lines', name=\"Only Pos Compressed (0.003 abs) - 100\"))\n",
    "\n",
    "fig.add_trace(go.Scatter(x=x_axis_vx_500, y=ts500_p2_vx_ratioOnlyVel_001, mode='lines', name=\"Only Vel Compressed 0.001 pw_rel - 500\"))\n",
    "fig.add_trace(go.Scatter(x=x_axis_vx_300, y=ts300_p2_vx_ratioOnlyVel_001, mode='lines', name=\"Only Vel Compressed 0.001 pw_rel - 300\"))\n",
    "fig.add_trace(go.Scatter(x=x_axis_vx_100, y=ts100_p2_vx_ratioOnlyVel_001, mode='lines', name=\"Only Vel Compressed 0.001 pw_rel - 100\"))\n",
    "\n",
    "fig.update_xaxes(type=\"log\")\n",
    "fig.show()"
   ]
  },
  {
   "cell_type": "code",
   "execution_count": null,
   "metadata": {},
   "outputs": [],
   "source": [
    "# vy compared for timesteps 100,300,500\n",
    "fig = go.Figure()\n",
    "\n",
    "fig.add_trace(go.Scatter(x=x_axis_vy_500, y=ts500_p2_vy_ratioOnlyPos, mode='lines', name=\"Only Pos Compressed (0.003 abs) - 500\"))\n",
    "fig.add_trace(go.Scatter(x=x_axis_vy_300, y=ts300_p2_vy_ratioOnlyPos, mode='lines', name=\"Only Pos Compressed (0.003 abs) - 300\"))\n",
    "fig.add_trace(go.Scatter(x=x_axis_vy_100, y=ts300_p2_vy_ratioOnlyPos, mode='lines', name=\"Only Pos Compressed (0.003 abs) - 100\"))\n",
    "\n",
    "fig.add_trace(go.Scatter(x=x_axis_vy_500, y=ts500_p2_vy_ratioOnlyVel_001, mode='lines', name=\"Only Vel Compressed 0.001 pw_rel - 500\"))\n",
    "fig.add_trace(go.Scatter(x=x_axis_vy_300, y=ts300_p2_vy_ratioOnlyVel_001, mode='lines', name=\"Only Vel Compressed 0.001 pw_rel - 300\"))\n",
    "fig.add_trace(go.Scatter(x=x_axis_vy_100, y=ts100_p2_vy_ratioOnlyVel_001, mode='lines', name=\"Only Vel Compressed 0.001 pw_rel - 100\"))\n",
    "\n",
    "\n",
    "fig.update_xaxes(type=\"log\")\n",
    "fig.show()"
   ]
  },
  {
   "cell_type": "code",
   "execution_count": null,
   "metadata": {},
   "outputs": [],
   "source": [
    "# vz compared for timesteps 100,300,500\n",
    "fig = go.Figure()\n",
    "\n",
    "fig.add_trace(go.Scatter(x=x_axis_vz_500, y=ts500_p2_vz_ratioOnlyPos, mode='lines', name=\"Only Pos Compressed (0.003 abs) - 500\"))\n",
    "fig.add_trace(go.Scatter(x=x_axis_vz_300, y=ts300_p2_vz_ratioOnlyPos, mode='lines', name=\"Only Pos Compressed (0.003 abs) - 300\"))\n",
    "fig.add_trace(go.Scatter(x=x_axis_vz_100, y=ts300_p2_vz_ratioOnlyPos, mode='lines', name=\"Only Pos Compressed (0.003 abs) - 100\"))\n",
    "\n",
    "fig.add_trace(go.Scatter(x=x_axis_vz_500, y=ts500_p2_vz_ratioOnlyVel_001, mode='lines', name=\"Only Vel Compressed 0.001 pw_rel - 500\"))\n",
    "fig.add_trace(go.Scatter(x=x_axis_vz_300, y=ts300_p2_vz_ratioOnlyVel_001, mode='lines', name=\"Only Vel Compressed 0.001 pw_rel - 300\"))\n",
    "fig.add_trace(go.Scatter(x=x_axis_vz_100, y=ts100_p2_vz_ratioOnlyVel_001, mode='lines', name=\"Only Vel Compressed 0.001 pw_rel - 100\"))\n",
    "\n",
    "\n",
    "fig.update_xaxes(type=\"log\")\n",
    "fig.show()"
   ]
  },
  {
   "cell_type": "code",
   "execution_count": null,
   "metadata": {},
   "outputs": [],
   "source": []
  }
 ],
 "metadata": {
  "kernelspec": {
   "display_name": "Python 3",
   "language": "python",
   "name": "python3"
  },
  "language_info": {
   "codemirror_mode": {
    "name": "ipython",
    "version": 3
   },
   "file_extension": ".py",
   "mimetype": "text/x-python",
   "name": "python",
   "nbconvert_exporter": "python",
   "pygments_lexer": "ipython3",
   "version": "3.8.3"
  }
 },
 "nbformat": 4,
 "nbformat_minor": 4
}
