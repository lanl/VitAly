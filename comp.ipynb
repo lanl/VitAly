{
 "cells": [
  {
   "cell_type": "code",
   "execution_count": null,
   "metadata": {},
   "outputs": [],
   "source": [
    "from utils import *"
   ]
  },
  {
   "cell_type": "code",
   "execution_count": null,
   "metadata": {},
   "outputs": [],
   "source": [
    "data_orig = readData(\"/home/pascalgrosset/data/cosmo/vel_analysis/orig-499.haloproperties\", [\"fof_halo_mass\"])"
   ]
  },
  {
   "cell_type": "code",
   "execution_count": null,
   "metadata": {},
   "outputs": [],
   "source": [
    "var_orig = getArray(data_orig, 0)"
   ]
  },
  {
   "cell_type": "code",
   "execution_count": null,
   "metadata": {},
   "outputs": [],
   "source": [
    "arr = read_csv_to_array('/home/pascalgrosset/projects/VizAly-Vis_IO/Comparison/sz_PosNoComp_vel_.01.csv',',')"
   ]
  },
  {
   "cell_type": "code",
   "execution_count": null,
   "metadata": {},
   "outputs": [],
   "source": [
    "print(arr[0])"
   ]
  },
  {
   "cell_type": "code",
   "execution_count": null,
   "metadata": {},
   "outputs": [],
   "source": [
    "data_comp = readData(\"/home/pascalgrosset/data/cosmo/vel_analysis/sz_PosNoComp_vel_.01-499.haloproperties\", [\"fof_halo_mass\"])"
   ]
  },
  {
   "cell_type": "code",
   "execution_count": null,
   "metadata": {},
   "outputs": [],
   "source": [
    "var_comp = getArray(data_comp, 0)"
   ]
  },
  {
   "cell_type": "code",
   "execution_count": null,
   "metadata": {},
   "outputs": [],
   "source": [
    "print(var_orig[0])"
   ]
  },
  {
   "cell_type": "code",
   "execution_count": null,
   "metadata": {},
   "outputs": [],
   "source": [
    "print(var_comp[61])"
   ]
  },
  {
   "cell_type": "code",
   "execution_count": null,
   "metadata": {},
   "outputs": [],
   "source": []
  },
  {
   "cell_type": "code",
   "execution_count": null,
   "metadata": {},
   "outputs": [],
   "source": [
    "index_file = read_csv_to_array('/home/pascalgrosset/projects/VizAly-Vis_IO/Comparison/indices_sz_PosNoComp_vel_.01.csv',',')\n",
    "print(index_file[0])\n",
    "print(index_file[1])"
   ]
  },
  {
   "cell_type": "code",
   "execution_count": null,
   "metadata": {},
   "outputs": [],
   "source": [
    "orig_file = \"/home/pascalgrosset/data/cosmo/vel_analysis/orig-499.haloproperties\"\n",
    "comp_file = \"/home/pascalgrosset/data/cosmo/vel_analysis/sz_PosNoComp_vel_.01-499.haloproperties\"\n",
    "\n",
    "vars_to_read = [\"fof_halo_center_x\", \"fof_halo_center_y\", \"fof_halo_center_z\", \"fof_halo_mass\", \"fof_halo_angmom_x\", \"fof_halo_angmom_y\", \"fof_halo_angmom_z\", \"sod_halo_angmom_x\", \"sod_halo_angmom_y\", \"sod_halo_angmom_z\"]"
   ]
  },
  {
   "cell_type": "code",
   "execution_count": null,
   "metadata": {},
   "outputs": [],
   "source": [
    "data_orig_gio = pygio.read_genericio(orig_file, vars_to_read)\n",
    "data_comp_gio = pygio.read_genericio(comp_file, vars_to_read)"
   ]
  },
  {
   "cell_type": "code",
   "execution_count": null,
   "metadata": {},
   "outputs": [],
   "source": [
    "data_orig__x = data_orig_gio[\"fof_halo_center_x\"]\n",
    "data_orig__y = data_orig_gio[\"fof_halo_center_y\"]\n",
    "data_orig__z = data_orig_gio[\"fof_halo_center_z\"]\n",
    "\n",
    "data_orig__ang_mom_x = data_orig_gio[\"fof_halo_angmom_x\"]\n",
    "data_orig__ang_mom_y = data_orig_gio[\"fof_halo_angmom_y\"]\n",
    "data_orig__ang_mom_z = data_orig_gio[\"fof_halo_angmom_z\"]\n",
    "\n",
    "data_orig__sod_ang_mom_x = data_orig_gio[\"sod_halo_angmom_x\"]\n",
    "data_orig__sod_ang_mom_y = data_orig_gio[\"sod_halo_angmom_y\"]\n",
    "data_orig__sod_ang_mom_z = data_orig_gio[\"sod_halo_angmom_z\"]\n",
    "\n",
    "data_orig__mass = data_orig_gio[\"fof_halo_mass\"]"
   ]
  },
  {
   "cell_type": "code",
   "execution_count": null,
   "metadata": {},
   "outputs": [],
   "source": [
    "data_comp_gio__x = data_comp_gio[\"fof_halo_center_x\"]\n",
    "data_comp_gio__y = data_comp_gio[\"fof_halo_center_y\"]\n",
    "data_comp_gio__z = data_comp_gio[\"fof_halo_center_z\"]\n",
    "\n",
    "data_comp__ang_mom_x = data_comp_gio[\"fof_halo_angmom_x\"]\n",
    "data_comp__ang_mom_y = data_comp_gio[\"fof_halo_angmom_y\"]\n",
    "data_comp__ang_mom_z = data_comp_gio[\"fof_halo_angmom_z\"]\n",
    "\n",
    "data_comp__sod_ang_mom_x = data_comp_gio[\"sod_halo_angmom_x\"]\n",
    "data_comp__sod_ang_mom_y = data_comp_gio[\"sod_halo_angmom_y\"]\n",
    "data_comp__sod_ang_mom_z = data_comp_gio[\"sod_halo_angmom_z\"]\n",
    "\n",
    "data_comp_gio__mass = data_comp_gio[\"fof_halo_mass\"]"
   ]
  },
  {
   "cell_type": "code",
   "execution_count": null,
   "metadata": {},
   "outputs": [],
   "source": [
    "index_comp = 0\n",
    "index_orig = int(index_file[index_comp])\n",
    "\n",
    "print(index_orig, index_comp)"
   ]
  },
  {
   "cell_type": "code",
   "execution_count": null,
   "metadata": {},
   "outputs": [],
   "source": [
    "print(data_orig__x[index_orig],data_orig__y[index_orig],data_orig__z[index_orig])\n",
    "print(data_comp_gio__x[index_comp],data_comp_gio__y[index_comp],data_comp_gio__z[index_comp])"
   ]
  },
  {
   "cell_type": "code",
   "execution_count": null,
   "metadata": {},
   "outputs": [],
   "source": [
    "print(data_orig__mass[index_orig])\n",
    "print(data_comp_gio__mass[index_comp])"
   ]
  },
  {
   "cell_type": "code",
   "execution_count": null,
   "metadata": {},
   "outputs": [],
   "source": [
    "print(data_orig__ang_mom_x[index_orig],data_orig__ang_mom_y[index_orig],data_orig__ang_mom_z[index_orig])\n",
    "print(data_comp__ang_mom_x[index_comp],data_comp__ang_mom_y[index_comp],data_comp__ang_mom_z[index_comp])"
   ]
  },
  {
   "cell_type": "code",
   "execution_count": null,
   "metadata": {},
   "outputs": [],
   "source": [
    "vec_orig = [data_orig__ang_mom_x[index_orig],data_orig__ang_mom_y[index_orig],data_orig__ang_mom_z[index_orig]]\n",
    "vec_comp = [data_comp__ang_mom_x[index_comp],data_comp__ang_mom_y[index_comp],data_comp__ang_mom_z[index_comp]]\n",
    "print(vec_orig)\n",
    "print(vec_comp)"
   ]
  },
  {
   "cell_type": "code",
   "execution_count": null,
   "metadata": {},
   "outputs": [],
   "source": [
    "vec_orig = np.array([data_orig__ang_mom_x[index_orig],data_orig__ang_mom_y[index_orig],data_orig__ang_mom_z[index_orig]])\n",
    "vec_comp = np.array([data_comp__ang_mom_x[index_comp],data_comp__ang_mom_y[index_comp],data_comp__ang_mom_z[index_comp]])\n",
    "print(vec_orig)\n",
    "print(vec_comp)"
   ]
  },
  {
   "cell_type": "code",
   "execution_count": null,
   "metadata": {},
   "outputs": [],
   "source": [
    "print(data_orig__sod_ang_mom_x[index_orig],data_orig__sod_ang_mom_y[index_orig],data_orig__sod_ang_mom_z[index_orig])\n",
    "print(data_comp__sod_ang_mom_x[index_comp],data_comp__sod_ang_mom_y[index_comp],data_comp__sod_ang_mom_z[index_comp])"
   ]
  },
  {
   "cell_type": "code",
   "execution_count": null,
   "metadata": {},
   "outputs": [],
   "source": [
    "index_com_file = read_csv_to_array('/home/pascalgrosset/projects/VizAly-Vis_IO/Comparison/indices_com_sz_PosNoComp_vel_.01.csv',',')\n",
    "print(index_com_file[0])\n",
    "print(index_com_file[1])"
   ]
  },
  {
   "cell_type": "code",
   "execution_count": null,
   "metadata": {},
   "outputs": [],
   "source": [
    "print(len(index_com_file))"
   ]
  },
  {
   "cell_type": "code",
   "execution_count": null,
   "metadata": {},
   "outputs": [],
   "source": [
    "def adrianVecDiffMag(v1, v2):\n",
    "    return ( np.linalg.norm(v1-v2)/ np.linalg.norm(v1) )"
   ]
  },
  {
   "cell_type": "code",
   "execution_count": null,
   "metadata": {},
   "outputs": [],
   "source": [
    "print(adrianVecDiffMag(vec_orig, vec_comp))\n",
    "print(index_orig, index_comp)\n",
    "print(vec_orig, vec_comp)"
   ]
  },
  {
   "cell_type": "code",
   "execution_count": null,
   "metadata": {},
   "outputs": [],
   "source": [
    "print(index_com_file[1])"
   ]
  },
  {
   "cell_type": "code",
   "execution_count": null,
   "metadata": {},
   "outputs": [],
   "source": [
    "def adrianVecDiffMag(v1, v2):\n",
    "    return ( np.linalg.norm(v1-v2)/ np.linalg.norm(v1) )\n",
    "\n",
    "def computeMaxDiffMag(indexFile, data_orig_gio, data_comp_gio, numItems):\n",
    "    data_orig__ang_mom_x = np.array(data_orig_gio[\"fof_halo_angmom_x\"])\n",
    "    data_orig__ang_mom_y = np.array(data_orig_gio[\"fof_halo_angmom_y\"])\n",
    "    data_orig__ang_mom_z = np.array(data_orig_gio[\"fof_halo_angmom_z\"])\n",
    "    \n",
    "    data_comp__ang_mom_x = np.array(data_comp_gio[\"fof_halo_angmom_x\"])\n",
    "    data_comp__ang_mom_y = np.array(data_comp_gio[\"fof_halo_angmom_y\"])\n",
    "    data_comp__ang_mom_z = np.array(data_comp_gio[\"fof_halo_angmom_z\"])\n",
    "    \n",
    "    diffMagList = []\n",
    "\n",
    "    for i in range(numItems):\n",
    "        index_comp = i\n",
    "        index_orig = int(indexFile[index_comp])\n",
    "        \n",
    "        vec_orig = np.array([data_orig__ang_mom_x[index_orig], data_orig__ang_mom_y[index_orig], data_orig__ang_mom_z[index_orig]])\n",
    "        vec_comp = np.array([data_comp__ang_mom_x[index_comp], data_comp__ang_mom_y[index_comp], data_comp__ang_mom_z[index_comp]])\n",
    "    \n",
    "        magDiff = adrianVecDiffMag(vec_orig, vec_comp)\n",
    "        if i == 0:\n",
    "            print(vec_orig, vec_comp, magDiff)\n",
    "            print(index_orig, index_comp)\n",
    "        \n",
    "        diffMagList.append( (i,magDiff) )\n",
    "        \n",
    "    return diffMagList\n",
    "\n",
    "theList = computeMaxDiffMag(index_file, data_orig_gio, data_comp_gio, len(index_com_file))\n",
    "        "
   ]
  },
  {
   "cell_type": "code",
   "execution_count": null,
   "metadata": {},
   "outputs": [],
   "source": [
    "def Sort_Tuple(tup): \n",
    "    # reverse = None (Sorts in Ascending order) \n",
    "    # key is set to sort using second element of \n",
    "    # sublist lambda has been used \n",
    "    return(sorted(tup, key = lambda x: x[1], reverse=True))  \n",
    "\n",
    "sortedList = Sort_Tuple(theList)\n",
    "print(sortedList[0])"
   ]
  },
  {
   "cell_type": "code",
   "execution_count": null,
   "metadata": {},
   "outputs": [],
   "source": [
    "print(sortedList[1])\n",
    "print(sortedList[2])"
   ]
  },
  {
   "cell_type": "code",
   "execution_count": null,
   "metadata": {},
   "outputs": [],
   "source": [
    "print(sortedList[2][0])"
   ]
  },
  {
   "cell_type": "code",
   "execution_count": null,
   "metadata": {},
   "outputs": [],
   "source": [
    "variables_to_show = [\", reverse=True\"]"
   ]
  },
  {
   "cell_type": "code",
   "execution_count": null,
   "metadata": {},
   "outputs": [],
   "source": [
    "variables_to_show = [\"fof_halo_count\"\n",
    ",\"fof_halo_tag\"\n",
    ",\"fof_halo_mass\"\n",
    ",\"fof_halo_ke\"\n",
    ",\"fof_halo_center_x\"\n",
    ",\"fof_halo_center_y\"\n",
    ",\"fof_halo_center_z\"\n",
    ",\"fof_halo_angmom_x\"\n",
    ",\"fof_halo_angmom_y\"\n",
    ",\"fof_halo_angmom_z\"\n",
    ",\"fof_halo_max_cir_vel\"\n",
    ",\"fof_halo_com_x\"\n",
    ",\"fof_halo_com_y\"\n",
    ",\"fof_halo_com_z\"\n",
    ",\"fof_halo_mean_vx\"\n",
    ",\"fof_halo_mean_vy\"\n",
    ",\"fof_halo_mean_vz\"\n",
    ",\"fof_halo_vel_disp\"\n",
    ",\"fof_halo_1D_vel_disp\"]"
   ]
  },
  {
   "cell_type": "code",
   "execution_count": null,
   "metadata": {},
   "outputs": [],
   "source": [
    "print(variables_to_show)"
   ]
  },
  {
   "cell_type": "code",
   "execution_count": null,
   "metadata": {},
   "outputs": [],
   "source": [
    "data_show_orig_gio = pygio.read_genericio(orig_file, variables_to_show)\n",
    "data_show_comp_gio = pygio.read_genericio(comp_file, variables_to_show)"
   ]
  },
  {
   "cell_type": "code",
   "execution_count": null,
   "metadata": {},
   "outputs": [],
   "source": [
    "print(data_show_orig_gio[ variables_to_show[0] ][0])"
   ]
  },
  {
   "cell_type": "code",
   "execution_count": null,
   "metadata": {},
   "outputs": [],
   "source": [
    "print(data_show_orig_gio[ variables_to_show[0] ] [sortedList[2][0]] )"
   ]
  },
  {
   "cell_type": "code",
   "execution_count": null,
   "metadata": {},
   "outputs": [],
   "source": [
    "_index = 0\n",
    "_index_to_show = sortedList[_index][0]\n",
    "print(_index_to_show)\n",
    "print(data_show_orig_gio[\"fof_halo_count\"][_index_to_show])\n",
    "print(data_show_orig_gio[\"fof_halo_mass\"][_index_to_show])"
   ]
  },
  {
   "cell_type": "code",
   "execution_count": null,
   "metadata": {},
   "outputs": [],
   "source": [
    "fullList=[]\n",
    "for i in range(100):\n",
    "    _index_to_show = sortedList[i][0]\n",
    "    theList = []\n",
    "    theList.append(sortedList[i][1])\n",
    "    for var in variables_to_show:\n",
    "        theList.append(data_show_orig_gio[var][_index_to_show])\n",
    "    fullList.append(theList)\n",
    "\n",
    "print(fullList)"
   ]
  },
  {
   "cell_type": "code",
   "execution_count": null,
   "metadata": {},
   "outputs": [],
   "source": [
    "import pandas as pd\n",
    "df = pd.DataFrame(fullList, columns=['mag_diff','fof_halo_count', 'fof_halo_tag', 'fof_halo_mass', 'fof_halo_ke', 'fof_halo_center_x', 'fof_halo_center_y', 'fof_halo_center_z', 'fof_halo_angmom_x', 'fof_halo_angmom_y', 'fof_halo_angmom_z', 'fof_halo_max_cir_vel', 'fof_halo_com_x', 'fof_halo_com_y', 'fof_halo_com_z', 'fof_halo_mean_vx', 'fof_halo_mean_vy', 'fof_halo_mean_vz', 'fof_halo_vel_disp', 'fof_halo_1D_vel_disp'])"
   ]
  },
  {
   "cell_type": "code",
   "execution_count": null,
   "metadata": {},
   "outputs": [],
   "source": [
    "print(df)"
   ]
  },
  {
   "cell_type": "code",
   "execution_count": null,
   "metadata": {},
   "outputs": [],
   "source": [
    "df.to_csv(\"top_100.csv\")"
   ]
  },
  {
   "cell_type": "code",
   "execution_count": null,
   "metadata": {},
   "outputs": [],
   "source": [
    "import pandas as pd\n",
    "df_read = pd.read_csv ('top_100.csv')\n",
    "print(df_read)"
   ]
  },
  {
   "cell_type": "code",
   "execution_count": null,
   "metadata": {},
   "outputs": [],
   "source": []
  }
 ],
 "metadata": {
  "kernelspec": {
   "display_name": "Python 3",
   "language": "python",
   "name": "python3"
  },
  "language_info": {
   "codemirror_mode": {
    "name": "ipython",
    "version": 3
   },
   "file_extension": ".py",
   "mimetype": "text/x-python",
   "name": "python",
   "nbconvert_exporter": "python",
   "pygments_lexer": "ipython3",
   "version": "3.8.3"
  }
 },
 "nbformat": 4,
 "nbformat_minor": 4
}
