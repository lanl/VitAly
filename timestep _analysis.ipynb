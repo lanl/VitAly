{
 "cells": [
  {
   "cell_type": "code",
   "execution_count": null,
   "metadata": {},
   "outputs": [],
   "source": [
    "import pandas as pd\n",
    "import plotly.graph_objects as go"
   ]
  },
  {
   "cell_type": "code",
   "execution_count": null,
   "metadata": {},
   "outputs": [],
   "source": [
    "df_cbench499 = pd.read_csv(\"cbench_499.csv\", delimiter=',') \n",
    "df_cbench300 = pd.read_csv(\"cbench_300.csv\", delimiter=',') \n",
    "df_cbench100 = pd.read_csv(\"cbench_100.csv\", delimiter=',') \n",
    "df_cbench200 = pd.read_csv(\"cbench_200.csv\", delimiter=',') \n",
    "df_cbench400 = pd.read_csv(\"cbench_400.csv\", delimiter=',')"
   ]
  },
  {
   "cell_type": "code",
   "execution_count": null,
   "metadata": {},
   "outputs": [],
   "source": [
    "for col in df_cbench499.columns:\n",
    "    print(col)"
   ]
  },
  {
   "cell_type": "code",
   "execution_count": null,
   "metadata": {},
   "outputs": [],
   "source": [
    "## Compression\n",
    "\n",
    "comp_sz_x = []\n",
    "comp_sz_y = []\n",
    "comp_sz_z = []\n",
    "\n",
    "timesteps = [100,203,300,401,499]\n",
    "comp_sz_x.append(df_cbench100[' Compression Ratio'][6])\n",
    "comp_sz_x.append(df_cbench200[' Compression Ratio'][6])\n",
    "comp_sz_x.append(df_cbench300[' Compression Ratio'][6])\n",
    "comp_sz_x.append(df_cbench400[' Compression Ratio'][6])\n",
    "comp_sz_x.append(df_cbench499[' Compression Ratio'][6])\n",
    "\n",
    "comp_sz_y.append(df_cbench100[' Compression Ratio'][7])\n",
    "comp_sz_y.append(df_cbench200[' Compression Ratio'][7])\n",
    "comp_sz_y.append(df_cbench300[' Compression Ratio'][7])\n",
    "comp_sz_y.append(df_cbench400[' Compression Ratio'][7])\n",
    "comp_sz_y.append(df_cbench499[' Compression Ratio'][7])\n",
    "\n",
    "comp_sz_z.append(df_cbench100[' Compression Ratio'][8])\n",
    "comp_sz_z.append(df_cbench200[' Compression Ratio'][8])\n",
    "comp_sz_z.append(df_cbench300[' Compression Ratio'][8])\n",
    "comp_sz_z.append(df_cbench400[' Compression Ratio'][8])\n",
    "comp_sz_z.append(df_cbench499[' Compression Ratio'][8])\n",
    "\n",
    "print(timesteps)\n",
    "print(comp_sz_x)"
   ]
  },
  {
   "cell_type": "code",
   "execution_count": null,
   "metadata": {},
   "outputs": [],
   "source": [
    "fig = go.Figure()\n",
    "\n",
    "fig.add_trace(go.Scatter(x=timesteps, y=comp_sz_x, mode='lines+markers', name=\"x\"))\n",
    "fig.add_trace(go.Scatter(x=timesteps, y=comp_sz_y, mode='lines+markers', name=\"y\"))\n",
    "fig.add_trace(go.Scatter(x=timesteps, y=comp_sz_z, mode='lines+markers', name=\"z\"))\n",
    "fig.show()"
   ]
  },
  {
   "cell_type": "code",
   "execution_count": null,
   "metadata": {},
   "outputs": [],
   "source": []
  },
  {
   "cell_type": "code",
   "execution_count": null,
   "metadata": {},
   "outputs": [],
   "source": []
  },
  {
   "cell_type": "code",
   "execution_count": null,
   "metadata": {},
   "outputs": [],
   "source": [
    "# Timestep 100, position power spectrum\n",
    "df_spectrum_100_orig = pd.read_csv(\"vel-test-100/spectrum/orig.pk\", delimiter='\\t') \n",
    "df_spectrum_100_blocs = pd.read_csv(\"vel-test-100/spectrum/BLOSC_.pk\", delimiter='\\t')\n",
    "df_spectrum_100_OnlyPos = pd.read_csv(\"vel-test-100/spectrum/sz_velNoComp.pk\", delimiter='\\t') \n",
    "df_spectrum_100_OnlyVel_001 = pd.read_csv(\"vel-test-100/spectrum/sz_PosNoComp_vel_.001.pk\", delimiter='\\t') \n",
    "df_spectrum_100_BothVel_001 = pd.read_csv(\"vel-test-100/spectrum/sz_vel_.001.pk\", delimiter='\\t') "
   ]
  },
  {
   "cell_type": "code",
   "execution_count": null,
   "metadata": {},
   "outputs": [],
   "source": [
    "# 398 becasue below 10 only\n",
    "ts100_p_0_orig = df_spectrum_100_orig['[<P_0(k)> (Mpc/h)^3]'].to_list()[:398]\n",
    "ts100_p_0_blosc = df_spectrum_100_blocs['[<P_0(k)> (Mpc/h)^3]'].to_list()[:398]\n",
    "ts100_p_0_OnlyPos = df_spectrum_100_OnlyPos['[<P_0(k)> (Mpc/h)^3]'].to_list()[:398]\n",
    "ts100_p_0_OnlyVel_001 = df_spectrum_100_OnlyVel_001['[<P_0(k)> (Mpc/h)^3]'].to_list()[:398]\n",
    "ts100_p_0_BothVel_001 = df_spectrum_100_BothVel_001['[<P_0(k)> (Mpc/h)^3]'].to_list()[:398]\n",
    "\n",
    "x_axis = df_spectrum_100_orig['# [<k> (h/Mpc)]'].to_list()[:398]\n",
    "\n",
    "ts100_p0_ratioBlosc = [b / o for b,o in zip(ts100_p_0_blosc, ts100_p_0_orig)]\n",
    "ts100_p0_ratioOnlyPos = [b / o for b,o in zip(ts100_p_0_OnlyPos, ts100_p_0_orig)]\n",
    "ts100_p0_ratioOnlyVel_001 = [b / o for b,o in zip(ts100_p_0_OnlyVel_001, ts100_p_0_orig)]\n",
    "ts100_p0_ratioBothVel_001 = [b / o for b,o in zip(ts100_p_0_BothVel_001, ts100_p_0_orig)]"
   ]
  },
  {
   "cell_type": "code",
   "execution_count": null,
   "metadata": {},
   "outputs": [],
   "source": [
    "fig = go.Figure()\n",
    "\n",
    "fig.add_trace(go.Scatter(x=x_axis, y=ts100_p0_ratioBlosc, mode='lines', name=\"Blosc Ratio\"))\n",
    "fig.add_trace(go.Scatter(x=x_axis, y=ts100_p0_ratioOnlyPos, mode='lines', name=\"Only Pos Compressed (0.003 abs)\"))\n",
    "#fig.add_trace(go.Scatter(x=x_axis, y=ts100_p0_ratioOnlyVel_001, mode='lines+markers', name=\"Only Vel Compressed (0.001 pw_rel)\"))\n",
    "#fig.add_trace(go.Scatter(x=x_axis, y=ts100_p0_ratioBothVel_001, mode='lines+markers', name=\"Both Pos and Velcompressed\"))\n",
    "\n",
    "\n",
    "fig.update_xaxes(type=\"log\")\n",
    "fig.show()"
   ]
  },
  {
   "cell_type": "code",
   "execution_count": null,
   "metadata": {},
   "outputs": [],
   "source": []
  },
  {
   "cell_type": "code",
   "execution_count": null,
   "metadata": {},
   "outputs": [],
   "source": []
  }
 ],
 "metadata": {
  "kernelspec": {
   "display_name": "Python 3",
   "language": "python",
   "name": "python3"
  },
  "language_info": {
   "codemirror_mode": {
    "name": "ipython",
    "version": 3
   },
   "file_extension": ".py",
   "mimetype": "text/x-python",
   "name": "python",
   "nbconvert_exporter": "python",
   "pygments_lexer": "ipython3",
   "version": "3.8.3"
  }
 },
 "nbformat": 4,
 "nbformat_minor": 2
}
