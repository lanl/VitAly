{
 "cells": [
  {
   "cell_type": "code",
   "execution_count": 1,
   "metadata": {},
   "outputs": [],
   "source": [
    "from utils import *\n",
    "import pandas as pd"
   ]
  },
  {
   "cell_type": "code",
   "execution_count": 2,
   "metadata": {},
   "outputs": [],
   "source": [
    "haloparticleTagFile = \"/home/pascalgrosset/data/cosmo/vel_analysis/orig-499.haloparticletags\""
   ]
  },
  {
   "cell_type": "code",
   "execution_count": 3,
   "metadata": {},
   "outputs": [
    {
     "name": "stdout",
     "output_type": "stream",
     "text": [
      "Number of Elements: 329838184\n",
      "Total number of Elements: 18446744073709551615\n",
      "[data type] Variable name\n",
      "---------------------------------------------\n",
      "[i 64] id\n",
      "[i 64] fof_halo_tag\n",
      "\n",
      "(i=integer,f=floating point, number bits size)\n",
      "\n"
     ]
    }
   ],
   "source": [
    "data = pygio.PyGenericIO(haloparticleTagFile)\n",
    "data.inspect()"
   ]
  },
  {
   "cell_type": "code",
   "execution_count": 4,
   "metadata": {},
   "outputs": [],
   "source": [
    "data = readData(haloparticleTagFile)\n",
    "varNames = getVariableNames(haloparticleTagFile)"
   ]
  },
  {
   "cell_type": "code",
   "execution_count": 6,
   "metadata": {},
   "outputs": [],
   "source": [
    "_halo_particle = np.array([data[0], data[1]])\n",
    "halo_particle = np.transpose(_halo_particle)"
   ]
  },
  {
   "cell_type": "code",
   "execution_count": 10,
   "metadata": {},
   "outputs": [
    {
     "name": "stdout",
     "output_type": "stream",
     "text": [
      "[1029767322 1029767322]\n"
     ]
    }
   ],
   "source": [
    "print(halo_particle[0])"
   ]
  },
  {
   "cell_type": "code",
   "execution_count": 11,
   "metadata": {},
   "outputs": [],
   "source": [
    "def find_particle_id(halo_tag, data_array, num_elements):\n",
    "\tlist_of_ids = []\n",
    "\tfor i in range(num_elements):\n",
    "\t\tif data_array[i][1] == halo_tag:\n",
    "\t\t\tlist_of_ids.append(data_array[i][0])\n",
    "\t\n",
    "\treturn list_of_ids"
   ]
  },
  {
   "cell_type": "code",
   "execution_count": 12,
   "metadata": {},
   "outputs": [],
   "source": [
    "list_of_ids = find_particle_id(812471593, halo_particle, len(halo_particle))"
   ]
  },
  {
   "cell_type": "code",
   "execution_count": 13,
   "metadata": {},
   "outputs": [
    {
     "name": "stdout",
     "output_type": "stream",
     "text": [
      "53\n"
     ]
    }
   ],
   "source": [
    "print(len(list_of_ids))"
   ]
  },
  {
   "cell_type": "code",
   "execution_count": null,
   "metadata": {},
   "outputs": [],
   "source": []
  },
  {
   "cell_type": "code",
   "execution_count": null,
   "metadata": {},
   "outputs": [],
   "source": []
  },
  {
   "cell_type": "code",
   "execution_count": null,
   "metadata": {},
   "outputs": [],
   "source": []
  },
  {
   "cell_type": "code",
   "execution_count": null,
   "metadata": {},
   "outputs": [],
   "source": []
  },
  {
   "cell_type": "code",
   "execution_count": null,
   "metadata": {},
   "outputs": [],
   "source": [
    "gio_file = pygio.PyGenericIO(orig_file)\n",
    "gio_vars = gio_file.get_variables()\n",
    "variables = []\n",
    "for var in gio_vars:\n",
    "    variables.append(var.name)\n",
    "    \n",
    "print(variables)"
   ]
  },
  {
   "cell_type": "code",
   "execution_count": null,
   "metadata": {},
   "outputs": [],
   "source": [
    "print(len(data_orig_gio))"
   ]
  },
  {
   "cell_type": "code",
   "execution_count": null,
   "metadata": {},
   "outputs": [],
   "source": [
    "print(len(data_orig_gio[variables[0]]))"
   ]
  },
  {
   "cell_type": "code",
   "execution_count": null,
   "metadata": {},
   "outputs": [],
   "source": [
    "variables = [\"x\",\"y\",\"z\",\"vx\",\"vy\",\"vz\",\"id\",\"fof_halo_tag\"]"
   ]
  },
  {
   "cell_type": "code",
   "execution_count": null,
   "metadata": {},
   "outputs": [],
   "source": [
    "print(len(data_orig_gio))\n",
    "print(len(data_orig_gio[\"x\"]))\n",
    "num_particles = len(data_orig_gio[\"fof_halo_tag\"])"
   ]
  },
  {
   "cell_type": "code",
   "execution_count": null,
   "metadata": {},
   "outputs": [],
   "source": [
    "print(data_orig_gio[\"fof_halo_tag\"][0])"
   ]
  },
  {
   "cell_type": "code",
   "execution_count": null,
   "metadata": {},
   "outputs": [],
   "source": [
    "halo_id_to_find = 812471593\n",
    "halo_id_to_find = 543655151\n",
    "halo_id_to_find = print\n",
    "\n",
    "def getOldParticles(num_particles, data, tag):\n",
    "    rows = []\n",
    "    for p in range(num_particles):\n",
    "        if data[\"fof_halo_tag\"][p] == tag:\n",
    "            var_values = [] \n",
    "            for var in variables:\n",
    "                var_values.append( data_orig_gio[var] )\n",
    "            \n",
    "            rows.append(var_values)\n",
    "        \n",
    "    return rows\n",
    "\n",
    "rows = getParticles(num_particles, data_orig_gio, halo_id_to_find)\n",
    "print(len(rows))"
   ]
  },
  {
   "cell_type": "code",
   "execution_count": null,
   "metadata": {},
   "outputs": [],
   "source": [
    "def getParticles(data, variables, num_particles, var_filter_name, var_filter_value):\n",
    "    '''Find particles that match a halo tag'''\n",
    "\n",
    "    rows = []\n",
    "    for p in range(num_particles):\n",
    "        if data[var_filter_name][p] == var_filter_value:\n",
    "            var_values = [] \n",
    "            for var in variables:\n",
    "                var_values.append( data[var] )\n",
    "            \n",
    "            rows.append(var_values)\n",
    "        \n",
    "    return rows"
   ]
  },
  {
   "cell_type": "code",
   "execution_count": null,
   "metadata": {},
   "outputs": [],
   "source": []
  }
 ],
 "metadata": {
  "kernelspec": {
   "display_name": "Python 3",
   "language": "python",
   "name": "python3"
  },
  "language_info": {
   "codemirror_mode": {
    "name": "ipython",
    "version": 3
   },
   "file_extension": ".py",
   "mimetype": "text/x-python",
   "name": "python",
   "nbconvert_exporter": "python",
   "pygments_lexer": "ipython3",
   "version": "3.8.3"
  }
 },
 "nbformat": 4,
 "nbformat_minor": 4
}
