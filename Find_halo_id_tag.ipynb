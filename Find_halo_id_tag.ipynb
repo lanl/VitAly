{
 "cells": [
  {
   "cell_type": "code",
   "execution_count": null,
   "metadata": {},
   "outputs": [],
   "source": [
    "from utils import *\n",
    "import pandas as pd"
   ]
  },
  {
   "cell_type": "code",
   "execution_count": null,
   "metadata": {},
   "outputs": [],
   "source": [
    "orig_file = \"/home/pascalgrosset/data/cosmo/vel_analysis/sz_PosNoComp_vel_.001-499.haloparticletags\""
   ]
  },
  {
   "cell_type": "code",
   "execution_count": null,
   "metadata": {},
   "outputs": [],
   "source": [
    "data = pygio.PyGenericIO(orig_file)\n",
    "data.inspect()"
   ]
  },
  {
   "cell_type": "code",
   "execution_count": null,
   "metadata": {},
   "outputs": [],
   "source": [
    "data_orig_gio = pygio.read_genericio(orig_file)"
   ]
  },
  {
   "cell_type": "code",
   "execution_count": null,
   "metadata": {},
   "outputs": [],
   "source": [
    "gio_file = pygio.PyGenericIO(orig_file)\n",
    "gio_vars = gio_file.get_variables()\n",
    "variables = []\n",
    "for var in gio_vars:\n",
    "    variables.append(var.name)\n",
    "    \n",
    "print(variables)"
   ]
  },
  {
   "cell_type": "code",
   "execution_count": null,
   "metadata": {},
   "outputs": [],
   "source": [
    "print(len(data_orig_gio))"
   ]
  },
  {
   "cell_type": "code",
   "execution_count": null,
   "metadata": {},
   "outputs": [],
   "source": [
    "print(len(data_orig_gio[variables[0]]))"
   ]
  },
  {
   "cell_type": "code",
   "execution_count": null,
   "metadata": {},
   "outputs": [],
   "source": [
    "variables = [\"x\",\"y\",\"z\",\"vx\",\"vy\",\"vz\",\"id\",\"fof_halo_tag\"]"
   ]
  },
  {
   "cell_type": "code",
   "execution_count": null,
   "metadata": {},
   "outputs": [],
   "source": [
    "print(len(data_orig_gio))\n",
    "print(len(data_orig_gio[\"x\"]))\n",
    "num_particles = len(data_orig_gio[\"fof_halo_tag\"])"
   ]
  },
  {
   "cell_type": "code",
   "execution_count": null,
   "metadata": {},
   "outputs": [],
   "source": [
    "print(data_orig_gio[\"fof_halo_tag\"][0])"
   ]
  },
  {
   "cell_type": "code",
   "execution_count": null,
   "metadata": {},
   "outputs": [],
   "source": [
    "halo_id_to_find = 812471593\n",
    "halo_id_to_find = 543655151\n",
    "halo_id_to_find = print\n",
    "\n",
    "def getOldParticles(num_particles, data, tag):\n",
    "    rows = []\n",
    "    for p in range(num_particles):\n",
    "        if data[\"fof_halo_tag\"][p] == tag:\n",
    "            var_values = [] \n",
    "            for var in variables:\n",
    "                var_values.append( data_orig_gio[var] )\n",
    "            \n",
    "            rows.append(var_values)\n",
    "        \n",
    "    return rows\n",
    "\n",
    "rows = getParticles(num_particles, data_orig_gio, halo_id_to_find)\n",
    "print(len(rows))"
   ]
  },
  {
   "cell_type": "code",
   "execution_count": null,
   "metadata": {},
   "outputs": [],
   "source": [
    "def getParticles(data, variables, num_particles, var_filter_name, var_filter_value):\n",
    "    '''Find particles that match a halo tag'''\n",
    "\n",
    "    rows = []\n",
    "    for p in range(num_particles):\n",
    "        if data[var_filter_name][p] == var_filter_value:\n",
    "            var_values = [] \n",
    "            for var in variables:\n",
    "                var_values.append( data[var] )\n",
    "            \n",
    "            rows.append(var_values)\n",
    "        \n",
    "    return rows"
   ]
  },
  {
   "cell_type": "code",
   "execution_count": null,
   "metadata": {},
   "outputs": [],
   "source": []
  }
 ],
 "metadata": {
  "kernelspec": {
   "display_name": "Python 3",
   "language": "python",
   "name": "python3"
  },
  "language_info": {
   "codemirror_mode": {
    "name": "ipython",
    "version": 3
   },
   "file_extension": ".py",
   "mimetype": "text/x-python",
   "name": "python",
   "nbconvert_exporter": "python",
   "pygments_lexer": "ipython3",
   "version": "3.8.3"
  }
 },
 "nbformat": 4,
 "nbformat_minor": 4
}
