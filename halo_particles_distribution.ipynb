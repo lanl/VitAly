{
 "cells": [
  {
   "cell_type": "code",
   "execution_count": null,
   "metadata": {},
   "outputs": [],
   "source": [
    "import pandas as pd\n",
    "import numpy as np\n",
    "import plotly.express as px\n",
    "import plotly.graph_objects as go"
   ]
  },
  {
   "cell_type": "code",
   "execution_count": null,
   "metadata": {},
   "outputs": [],
   "source": [
    "df_orig = pd.read_csv ('944404240_orig.csv')\n",
    "df_comp = pd.read_csv ('944404240_PosNoComp_vel_.01.csv')"
   ]
  },
  {
   "cell_type": "code",
   "execution_count": null,
   "metadata": {},
   "outputs": [],
   "source": []
  },
  {
   "cell_type": "code",
   "execution_count": null,
   "metadata": {},
   "outputs": [],
   "source": [
    "df_orig"
   ]
  },
  {
   "cell_type": "code",
   "execution_count": null,
   "metadata": {},
   "outputs": [],
   "source": [
    "df_comp"
   ]
  },
  {
   "cell_type": "code",
   "execution_count": null,
   "metadata": {},
   "outputs": [],
   "source": [
    "# make sure particles match at indices: Sanity Check\n",
    "match = True\n",
    "\n",
    "for i in range(len(df_comp)):\n",
    "    if df_comp['x'][i] != df_orig['x'][i]:\n",
    "        print(\"Error at \", i, \" in x\")\n",
    "        match = False\n",
    "        break\n",
    "    if df_comp['y'][i] != df_orig['y'][i]:\n",
    "        print(\"Error at \", i, \" in y\")\n",
    "        match = False\n",
    "        break\n",
    "    if df_comp['z'][i] != df_orig['z'][i]:\n",
    "        print(\"Error at \", i, \" in z\")\n",
    "        match = False\n",
    "        break\n",
    "\n",
    "if match == True:\n",
    "    print(\"All particles match\")\n",
    "    "
   ]
  },
  {
   "cell_type": "code",
   "execution_count": null,
   "metadata": {},
   "outputs": [],
   "source": [
    "# Computing error differences\n",
    "min_abs_error = [float(\"inf\"), float(\"inf\"), float(\"inf\")]\n",
    "max_abs_error = [-1.0, -1.0, -1.0]\n",
    "\n",
    "min_rel_error = [float(\"inf\"), float(\"inf\"), float(\"inf\")]\n",
    "max_rel_error = [-1.0, -1.0, -1.0]\n",
    "\n",
    "abs_error_vals = [[], [], []]\n",
    "rel_error_vals = [[], [], []]\n",
    "\n",
    "# Compute min and max errors\n",
    "for i in range(len(df_comp)):\n",
    "    abs_error_vals[0].append(abs(df_orig['vx'][i] - df_comp['vy'][i]))\n",
    "    abs_error_vals[1].append(abs(df_orig['vy'][i] - df_comp['vz'][i]))\n",
    "    abs_error_vals[2].append(abs(df_orig['vy'][i] - df_comp['vz'][i]))\n",
    "    \n",
    "    rel_error_vals[0].append(abs( abs(df_orig['vx'][i] - df_comp['vx'][i])/ df_orig['vx'][i]))\n",
    "    rel_error_vals[1].append(abs( abs(df_orig['vy'][i] - df_comp['vy'][i])/ df_orig['vy'][i]))\n",
    "    rel_error_vals[2].append(abs( abs(df_orig['vz'][i] - df_comp['vz'][i])/ df_orig['vz'][i]))\n",
    "\n",
    "for i in range(3):\n",
    "    min_abs_error[i] = min(abs_error_vals[i])\n",
    "    max_rel_error[i] = max(abs_error_vals[i])\n",
    "    \n",
    "    min_rel_error[i] = min(rel_error_vals[i])\n",
    "    max_rel_error[i] = max(rel_error_vals[i])\n",
    "    \n",
    "print(\"Vel Absolute errors ~ min:\", min_abs_error, \"\\n max:\", max_abs_error)\n",
    "print(\"Vel Relative errors ~ min:\", min_rel_error, \"\\n max:\", max_rel_error)"
   ]
  },
  {
   "cell_type": "code",
   "execution_count": null,
   "metadata": {},
   "outputs": [],
   "source": [
    "fig = px.histogram(x=np.array(abs_error_vals[0]), title=\"vx absolute error\", nbins=32)\n",
    "fig.show()"
   ]
  },
  {
   "cell_type": "code",
   "execution_count": null,
   "metadata": {},
   "outputs": [],
   "source": [
    "fig = px.histogram(x=np.array(abs_error_vals[1]), title=\"vy absolute error\", nbins=32)\n",
    "fig.show()"
   ]
  },
  {
   "cell_type": "code",
   "execution_count": null,
   "metadata": {},
   "outputs": [],
   "source": [
    "fig = px.histogram(x=np.array(abs_error_vals[2]), title=\"vz absolute error\", nbins=32)\n",
    "fig.show()"
   ]
  },
  {
   "cell_type": "code",
   "execution_count": null,
   "metadata": {},
   "outputs": [],
   "source": [
    "fig = px.histogram(x=np.array(rel_error_vals[0]), title=\"vx relative error\", nbins=32)\n",
    "fig.show()"
   ]
  },
  {
   "cell_type": "code",
   "execution_count": null,
   "metadata": {},
   "outputs": [],
   "source": [
    "fig = px.histogram(x=np.array(rel_error_vals[1]), title=\"vy relative error\", nbins=32)\n",
    "fig.show()"
   ]
  },
  {
   "cell_type": "code",
   "execution_count": null,
   "metadata": {},
   "outputs": [],
   "source": [
    "fig = px.histogram(x=np.array(rel_error_vals[2]), title=\"vz relative error\", nbins=32)\n",
    "fig.show()"
   ]
  },
  {
   "cell_type": "code",
   "execution_count": null,
   "metadata": {},
   "outputs": [],
   "source": []
  },
  {
   "cell_type": "code",
   "execution_count": null,
   "metadata": {},
   "outputs": [],
   "source": [
    "# Coz I'm a vis person :)\n",
    "\n"
   ]
  },
  {
   "cell_type": "code",
   "execution_count": null,
   "metadata": {
    "scrolled": true
   },
   "outputs": [],
   "source": [
    "fig = go.Figure(data = go.Cone(\n",
    "    x=df_orig['x'],\n",
    "    y=df_orig['y'],\n",
    "    z=df_orig['z'],\n",
    "    u=df_orig['vx'],\n",
    "    v=df_orig['vy'],\n",
    "    w=df_orig['vz'],\n",
    "    sizemode=\"scaled\",\n",
    "    sizeref=16))\n",
    "\n",
    "\n",
    "\n",
    "fig.show()"
   ]
  },
  {
   "cell_type": "code",
   "execution_count": null,
   "metadata": {
    "scrolled": true
   },
   "outputs": [],
   "source": [
    "fig = go.Figure(data = go.Cone(\n",
    "    x=df_comp['x'],\n",
    "    y=df_comp['y'],\n",
    "    z=df_comp['z'],\n",
    "    u=df_comp['vx'],\n",
    "    v=df_comp['vy'],\n",
    "    w=df_comp['vz'],\n",
    "    sizemode=\"scaled\",\n",
    "    sizeref=16))\n",
    "\n",
    "\n",
    "\n",
    "fig.show()"
   ]
  },
  {
   "cell_type": "code",
   "execution_count": null,
   "metadata": {},
   "outputs": [],
   "source": []
  }
 ],
 "metadata": {
  "kernelspec": {
   "display_name": "Python 3",
   "language": "python",
   "name": "python3"
  },
  "language_info": {
   "codemirror_mode": {
    "name": "ipython",
    "version": 3
   },
   "file_extension": ".py",
   "mimetype": "text/x-python",
   "name": "python",
   "nbconvert_exporter": "python",
   "pygments_lexer": "ipython3",
   "version": "3.8.3"
  }
 },
 "nbformat": 4,
 "nbformat_minor": 4
}
