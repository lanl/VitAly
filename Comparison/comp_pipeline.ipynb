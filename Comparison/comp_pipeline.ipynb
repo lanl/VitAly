{
 "cells": [
  {
   "cell_type": "code",
   "execution_count": null,
   "metadata": {},
   "outputs": [],
   "source": [
    "from utils import *\n",
    "import pandas as pd"
   ]
  },
  {
   "cell_type": "code",
   "execution_count": null,
   "metadata": {},
   "outputs": [],
   "source": [
    "orig_file = \"/home/pascalgrosset/data/cosmo/vel_analysis/orig-499.haloproperties\"\n",
    "comp_file = \"/home/pascalgrosset/data/cosmo/vel_analysis/sz_PosNoComp_vel_.01-499.haloproperties\"\n",
    "\n",
    "vars_to_read = [\"fof_halo_angmom_x\", \"fof_halo_angmom_y\", \"fof_halo_angmom_z\"]\n",
    "\n",
    "index_file = read_csv_to_array('/home/pascalgrosset/projects/VizAly-Vis_IO/Comparison/indices_sz_PosNoComp_vel_.01.csv',',')"
   ]
  },
  {
   "cell_type": "code",
   "execution_count": null,
   "metadata": {},
   "outputs": [],
   "source": [
    "data_orig_gio = pygio.read_genericio(orig_file, vars_to_read)\n",
    "data_comp_gio = pygio.read_genericio(comp_file, vars_to_read)"
   ]
  },
  {
   "cell_type": "code",
   "execution_count": null,
   "metadata": {},
   "outputs": [],
   "source": [
    "def adrianVecDiffMag(v1, v2):\n",
    "    return ( np.linalg.norm(v1-v2)/ np.linalg.norm(v1) )\n",
    "\n",
    "\n",
    "def computeMaxDiffMag(indexFile, data_orig_gio, data_comp_gio, numItems):\n",
    "    data_orig__ang_mom_x = np.array(data_orig_gio[\"fof_halo_angmom_x\"])\n",
    "    data_orig__ang_mom_y = np.array(data_orig_gio[\"fof_halo_angmom_y\"])\n",
    "    data_orig__ang_mom_z = np.array(data_orig_gio[\"fof_halo_angmom_z\"])\n",
    "    \n",
    "    data_comp__ang_mom_x = np.array(data_comp_gio[\"fof_halo_angmom_x\"])\n",
    "    data_comp__ang_mom_y = np.array(data_comp_gio[\"fof_halo_angmom_y\"])\n",
    "    data_comp__ang_mom_z = np.array(data_comp_gio[\"fof_halo_angmom_z\"])\n",
    "    \n",
    "    diffMagList = []\n",
    "\n",
    "    for i in range(numItems):\n",
    "        index_comp = i\n",
    "        index_orig = int(indexFile[index_comp])\n",
    "        \n",
    "        vec_orig = np.array([data_orig__ang_mom_x[index_orig], data_orig__ang_mom_y[index_orig], data_orig__ang_mom_z[index_orig]])\n",
    "        vec_comp = np.array([data_comp__ang_mom_x[index_comp], data_comp__ang_mom_y[index_comp], data_comp__ang_mom_z[index_comp]])\n",
    "    \n",
    "        magDiff = adrianVecDiffMag(vec_orig, vec_comp)\n",
    "#         if i == 0:\n",
    "#             print(vec_orig, vec_comp, magDiff)\n",
    "#             print(index_orig, index_comp)\n",
    "        \n",
    "        diffMagList.append( (i,magDiff) )\n",
    "        \n",
    "    return diffMagList\n",
    "\n",
    "\n",
    "def sortTuple(tup): \n",
    "    # reverse = None (Sorts in Ascending order) \n",
    "    # key is set to sort using second element of \n",
    "    # sublist lambda has been used \n",
    "    return(sorted(tup, key = lambda x: x[1], reverse=True))"
   ]
  },
  {
   "cell_type": "code",
   "execution_count": null,
   "metadata": {},
   "outputs": [],
   "source": [
    "theList = computeMaxDiffMag(index_file, data_orig_gio, data_comp_gio, len(index_file))\n",
    "sortedList = sortTuple(theList)"
   ]
  },
  {
   "cell_type": "code",
   "execution_count": null,
   "metadata": {},
   "outputs": [],
   "source": [
    "variables_to_show = [\"fof_halo_count\"\n",
    ",\"fof_halo_tag\"\n",
    ",\"fof_halo_mass\"\n",
    ",\"fof_halo_ke\"\n",
    ",\"fof_halo_center_x\"\n",
    ",\"fof_halo_center_y\"\n",
    ",\"fof_halo_center_z\"\n",
    ",\"fof_halo_angmom_x\"\n",
    ",\"fof_halo_angmom_y\"\n",
    ",\"fof_halo_angmom_z\"\n",
    ",\"fof_halo_max_cir_vel\"\n",
    ",\"fof_halo_com_x\"\n",
    ",\"fof_halo_com_y\"\n",
    ",\"fof_halo_com_z\"\n",
    ",\"fof_halo_mean_vx\"\n",
    ",\"fof_halo_mean_vy\"\n",
    ",\"fof_halo_mean_vz\"\n",
    ",\"fof_halo_vel_disp\"\n",
    ",\"fof_halo_1D_vel_disp\"]"
   ]
  },
  {
   "cell_type": "code",
   "execution_count": null,
   "metadata": {},
   "outputs": [],
   "source": [
    "data_show_orig_gio = pygio.read_genericio(orig_file, variables_to_show)\n",
    "data_show_comp_gio = pygio.read_genericio(comp_file, variables_to_show)"
   ]
  },
  {
   "cell_type": "code",
   "execution_count": null,
   "metadata": {},
   "outputs": [],
   "source": [
    "num_to_show = 100\n",
    "fullList=[]\n",
    "for i in range(num_to_show):\n",
    "    _index_to_show = sortedList[i][0]\n",
    "    theList = []\n",
    "    theList.append(sortedList[i][1])\n",
    "    for var in variables_to_show:\n",
    "        theList.append(data_show_orig_gio[var][_index_to_show])\n",
    "    fullList.append(theList)"
   ]
  },
  {
   "cell_type": "code",
   "execution_count": null,
   "metadata": {},
   "outputs": [],
   "source": [
    "df = pd.DataFrame(fullList, columns=['mag_diff','fof_halo_count', 'fof_halo_tag', 'fof_halo_mass', 'fof_halo_ke', 'fof_halo_center_x', 'fof_halo_center_y', 'fof_halo_center_z', 'fof_halo_angmom_x', 'fof_halo_angmom_y', 'fof_halo_angmom_z', 'fof_halo_max_cir_vel', 'fof_halo_com_x', 'fof_halo_com_y', 'fof_halo_com_z', 'fof_halo_mean_vx', 'fof_halo_mean_vy', 'fof_halo_mean_vz', 'fof_halo_vel_disp', 'fof_halo_1D_vel_disp'])\n",
    "print(df)\n",
    "df.to_csv(\"top_100.csv\")"
   ]
  },
  {
   "cell_type": "code",
   "execution_count": null,
   "metadata": {},
   "outputs": [],
   "source": []
  }
 ],
 "metadata": {
  "kernelspec": {
   "display_name": "Python 3",
   "language": "python",
   "name": "python3"
  },
  "language_info": {
   "codemirror_mode": {
    "name": "ipython",
    "version": 3
   },
   "file_extension": ".py",
   "mimetype": "text/x-python",
   "name": "python",
   "nbconvert_exporter": "python",
   "pygments_lexer": "ipython3",
   "version": "3.8.3"
  }
 },
 "nbformat": 4,
 "nbformat_minor": 4
}
